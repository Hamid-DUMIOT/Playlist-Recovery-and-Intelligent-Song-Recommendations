{
  "cells": [
    {
      "cell_type": "markdown",
      "metadata": {
        "id": "BJZIusZr6p72"
      },
      "source": [
        "\n",
        "## 1- Import Libraries 📚"
      ]
    },
    {
      "cell_type": "code",
      "execution_count": 137,
      "metadata": {
        "id": "LM559199qWlU"
      },
      "outputs": [],
      "source": [
        "# EDA Libraries\n",
        "import pandas as pd\n",
        "import numpy as np\n",
        "import plotly.express as px\n",
        "import plotly.figure_factory as ff\n",
        "from plotly.subplots import make_subplots\n",
        "import plotly.subplots as sp\n",
        "import plotly.graph_objects as go\n",
        "import seaborn as sns\n",
        "import matplotlib.pyplot as plt\n",
        "sns.set_style(\"whitegrid\")\n",
        "\n",
        "# Data Preprocessing Libraries\n",
        "from datasist.structdata import detect_outliers\n",
        "from sklearn.model_selection import train_test_split, StratifiedKFold, cross_validate\n",
        "from sklearn.preprocessing import StandardScaler\n",
        "from imblearn.over_sampling import SMOTE\n",
        "\n",
        "\n",
        "\n",
        "# Machine Learing (classification models) Libraries\n",
        "from sklearn.linear_model import LogisticRegression\n",
        "from sklearn.neighbors import KNeighborsClassifier\n",
        "from sklearn.tree import DecisionTreeClassifier\n",
        "from sklearn.ensemble import RandomForestClassifier, GradientBoostingClassifier\n",
        "from sklearn.feature_selection import  RFE\n",
        "from imblearn.pipeline import Pipeline\n",
        "from sklearn.model_selection import RandomizedSearchCV\n",
        "from sklearn.model_selection import GridSearchCV\n",
        "from sklearn.model_selection import StratifiedKFold\n",
        "from sklearn.metrics import confusion_matrix\n",
        "from sklearn.metrics import ConfusionMatrixDisplay\n",
        "from sklearn.metrics import confusion_matrix, classification_report\n",
        "import lightgbm as lgb\n",
        "from sklearn.preprocessing import LabelEncoder"
      ]
    },
    {
      "cell_type": "markdown",
      "metadata": {
        "id": "9H_oUj2s62Vp"
      },
      "source": [
        "## 2 - Load the dataset 📓"
      ]
    },
    {
      "cell_type": "code",
      "execution_count": 138,
      "metadata": {
        "colab": {
          "base_uri": "https://localhost:8080/",
          "height": 498
        },
        "id": "oZGvWhaH7S38",
        "outputId": "103dfcb1-f02e-43fd-c144-bb2f19e87766"
      },
      "outputs": [
        {
          "data": {
            "text/html": [
              "<div>\n",
              "<style scoped>\n",
              "    .dataframe tbody tr th:only-of-type {\n",
              "        vertical-align: middle;\n",
              "    }\n",
              "\n",
              "    .dataframe tbody tr th {\n",
              "        vertical-align: top;\n",
              "    }\n",
              "\n",
              "    .dataframe thead th {\n",
              "        text-align: right;\n",
              "    }\n",
              "</style>\n",
              "<table border=\"1\" class=\"dataframe\">\n",
              "  <thead>\n",
              "    <tr style=\"text-align: right;\">\n",
              "      <th></th>\n",
              "      <th>name</th>\n",
              "      <th>album</th>\n",
              "      <th>artist</th>\n",
              "      <th>release_date</th>\n",
              "      <th>length</th>\n",
              "      <th>popularity</th>\n",
              "      <th>acousticness</th>\n",
              "      <th>danceability</th>\n",
              "      <th>energy</th>\n",
              "      <th>instrumentalness</th>\n",
              "      <th>...</th>\n",
              "      <th>speechiness</th>\n",
              "      <th>tempo</th>\n",
              "      <th>valence</th>\n",
              "      <th>time_signature</th>\n",
              "      <th>key</th>\n",
              "      <th>mode</th>\n",
              "      <th>uri</th>\n",
              "      <th>release_year</th>\n",
              "      <th>top_year</th>\n",
              "      <th>user</th>\n",
              "    </tr>\n",
              "  </thead>\n",
              "  <tbody>\n",
              "    <tr>\n",
              "      <th>0</th>\n",
              "      <td>Variations on a Polish Theme, Op. 10: No. 5 An...</td>\n",
              "      <td>Szymanowski: Piano Works, Vol. 2</td>\n",
              "      <td>Karol Szymanowski</td>\n",
              "      <td>06/12/1996</td>\n",
              "      <td>76933</td>\n",
              "      <td>53</td>\n",
              "      <td>0.9960</td>\n",
              "      <td>0.329</td>\n",
              "      <td>0.00695</td>\n",
              "      <td>0.866000</td>\n",
              "      <td>...</td>\n",
              "      <td>0.0448</td>\n",
              "      <td>70.295</td>\n",
              "      <td>0.238</td>\n",
              "      <td>4</td>\n",
              "      <td>11</td>\n",
              "      <td>0</td>\n",
              "      <td>spotify:track:3bcdLMrAxrfn5dxInjIdI2</td>\n",
              "      <td>1996</td>\n",
              "      <td>unknown</td>\n",
              "      <td>unknown</td>\n",
              "    </tr>\n",
              "    <tr>\n",
              "      <th>1</th>\n",
              "      <td>Je vous trouve un charme fou - En duo avec Gaë...</td>\n",
              "      <td>Il suffit d'y croire (Version deluxe)</td>\n",
              "      <td>Hoshi</td>\n",
              "      <td>2018-11-30</td>\n",
              "      <td>172626</td>\n",
              "      <td>62</td>\n",
              "      <td>0.6220</td>\n",
              "      <td>0.615</td>\n",
              "      <td>0.59900</td>\n",
              "      <td>0.000008</td>\n",
              "      <td>...</td>\n",
              "      <td>0.2530</td>\n",
              "      <td>86.976</td>\n",
              "      <td>0.626</td>\n",
              "      <td>4</td>\n",
              "      <td>1</td>\n",
              "      <td>1</td>\n",
              "      <td>spotify:track:0C2yaSWVgCUiiqPyYxSOkd</td>\n",
              "      <td>2018</td>\n",
              "      <td>2022</td>\n",
              "      <td>delta</td>\n",
              "    </tr>\n",
              "    <tr>\n",
              "      <th>2</th>\n",
              "      <td>Me Gusta</td>\n",
              "      <td>On ira où ?</td>\n",
              "      <td>DTF</td>\n",
              "      <td>2019-10-11</td>\n",
              "      <td>175269</td>\n",
              "      <td>72</td>\n",
              "      <td>0.4130</td>\n",
              "      <td>0.834</td>\n",
              "      <td>0.73400</td>\n",
              "      <td>0.000040</td>\n",
              "      <td>...</td>\n",
              "      <td>0.3410</td>\n",
              "      <td>89.989</td>\n",
              "      <td>0.356</td>\n",
              "      <td>4</td>\n",
              "      <td>6</td>\n",
              "      <td>0</td>\n",
              "      <td>spotify:track:6P3FBaZfUjeWYExU2ShaPZ</td>\n",
              "      <td>2019</td>\n",
              "      <td>2020</td>\n",
              "      <td>gamma</td>\n",
              "    </tr>\n",
              "    <tr>\n",
              "      <th>3</th>\n",
              "      <td>L’amour en Solitaire</td>\n",
              "      <td>Petite Amie (Deluxe)</td>\n",
              "      <td>Juliette Armanet</td>\n",
              "      <td>2018-02-02</td>\n",
              "      <td>175266</td>\n",
              "      <td>0</td>\n",
              "      <td>0.4040</td>\n",
              "      <td>0.797</td>\n",
              "      <td>0.50600</td>\n",
              "      <td>0.000153</td>\n",
              "      <td>...</td>\n",
              "      <td>0.0327</td>\n",
              "      <td>128.027</td>\n",
              "      <td>0.539</td>\n",
              "      <td>4</td>\n",
              "      <td>5</td>\n",
              "      <td>0</td>\n",
              "      <td>spotify:track:2tn51grfchxArwPXeXkoX5</td>\n",
              "      <td>2018</td>\n",
              "      <td>2018</td>\n",
              "      <td>gamma</td>\n",
              "    </tr>\n",
              "    <tr>\n",
              "      <th>4</th>\n",
              "      <td>Goodnight Moon</td>\n",
              "      <td>Volta</td>\n",
              "      <td>Boogie Belgique</td>\n",
              "      <td>2016-09-23</td>\n",
              "      <td>264735</td>\n",
              "      <td>53</td>\n",
              "      <td>0.0616</td>\n",
              "      <td>0.788</td>\n",
              "      <td>0.67500</td>\n",
              "      <td>0.711000</td>\n",
              "      <td>...</td>\n",
              "      <td>0.0318</td>\n",
              "      <td>107.993</td>\n",
              "      <td>0.525</td>\n",
              "      <td>4</td>\n",
              "      <td>7</td>\n",
              "      <td>0</td>\n",
              "      <td>spotify:track:2rvo9Ddv18aRV0OJldhWTf</td>\n",
              "      <td>2016</td>\n",
              "      <td>2020</td>\n",
              "      <td>alpha</td>\n",
              "    </tr>\n",
              "  </tbody>\n",
              "</table>\n",
              "<p>5 rows × 22 columns</p>\n",
              "</div>"
            ],
            "text/plain": [
              "                                                name  \\\n",
              "0  Variations on a Polish Theme, Op. 10: No. 5 An...   \n",
              "1  Je vous trouve un charme fou - En duo avec Gaë...   \n",
              "2                                           Me Gusta   \n",
              "3                               L’amour en Solitaire   \n",
              "4                                     Goodnight Moon   \n",
              "\n",
              "                                   album             artist release_date  \\\n",
              "0       Szymanowski: Piano Works, Vol. 2  Karol Szymanowski   06/12/1996   \n",
              "1  Il suffit d'y croire (Version deluxe)              Hoshi   2018-11-30   \n",
              "2                            On ira où ?                DTF   2019-10-11   \n",
              "3                   Petite Amie (Deluxe)   Juliette Armanet   2018-02-02   \n",
              "4                                  Volta    Boogie Belgique   2016-09-23   \n",
              "\n",
              "   length  popularity  acousticness  danceability   energy  instrumentalness  \\\n",
              "0   76933          53        0.9960         0.329  0.00695          0.866000   \n",
              "1  172626          62        0.6220         0.615  0.59900          0.000008   \n",
              "2  175269          72        0.4130         0.834  0.73400          0.000040   \n",
              "3  175266           0        0.4040         0.797  0.50600          0.000153   \n",
              "4  264735          53        0.0616         0.788  0.67500          0.711000   \n",
              "\n",
              "   ...  speechiness    tempo  valence  time_signature  key  mode  \\\n",
              "0  ...       0.0448   70.295    0.238               4   11     0   \n",
              "1  ...       0.2530   86.976    0.626               4    1     1   \n",
              "2  ...       0.3410   89.989    0.356               4    6     0   \n",
              "3  ...       0.0327  128.027    0.539               4    5     0   \n",
              "4  ...       0.0318  107.993    0.525               4    7     0   \n",
              "\n",
              "                                    uri  release_year top_year     user  \n",
              "0  spotify:track:3bcdLMrAxrfn5dxInjIdI2          1996  unknown  unknown  \n",
              "1  spotify:track:0C2yaSWVgCUiiqPyYxSOkd          2018     2022    delta  \n",
              "2  spotify:track:6P3FBaZfUjeWYExU2ShaPZ          2019     2020    gamma  \n",
              "3  spotify:track:2tn51grfchxArwPXeXkoX5          2018     2018    gamma  \n",
              "4  spotify:track:2rvo9Ddv18aRV0OJldhWTf          2016     2020    alpha  \n",
              "\n",
              "[5 rows x 22 columns]"
            ]
          },
          "execution_count": 138,
          "metadata": {},
          "output_type": "execute_result"
        }
      ],
      "source": [
        "# Link to the dataset on GitHub\n",
        "link = \"https://github.com/Hamid-DUMIOT/Playlist-Recovery-and-Intelligent-Song-Recommendations/blob/main/data/mixed_playlist.csv\"\n",
        "\n",
        "df = pd.read_csv(link.replace(\"github.com\", \"raw.githubusercontent.com\").replace(\"/blob/\", \"/\"),sep=',')\n",
        "\n",
        "df.head()"
      ]
    },
    {
      "cell_type": "markdown",
      "metadata": {
        "id": "DSVpQxML8pZr"
      },
      "source": [
        "## 3 - Data Exploration🔎"
      ]
    },
    {
      "cell_type": "code",
      "execution_count": 139,
      "metadata": {
        "colab": {
          "base_uri": "https://localhost:8080/"
        },
        "id": "KlhBT2GN8sbE",
        "outputId": "a39da407-755a-4f48-ad24-9cec8a1cb7b5"
      },
      "outputs": [
        {
          "name": "stdout",
          "output_type": "stream",
          "text": [
            "<class 'pandas.core.frame.DataFrame'>\n",
            "RangeIndex: 3899 entries, 0 to 3898\n",
            "Data columns (total 22 columns):\n",
            " #   Column            Non-Null Count  Dtype  \n",
            "---  ------            --------------  -----  \n",
            " 0   name              3890 non-null   object \n",
            " 1   album             3890 non-null   object \n",
            " 2   artist            3899 non-null   object \n",
            " 3   release_date      3899 non-null   object \n",
            " 4   length            3899 non-null   int64  \n",
            " 5   popularity        3899 non-null   int64  \n",
            " 6   acousticness      3899 non-null   float64\n",
            " 7   danceability      3899 non-null   float64\n",
            " 8   energy            3899 non-null   float64\n",
            " 9   instrumentalness  3899 non-null   float64\n",
            " 10  liveness          3899 non-null   float64\n",
            " 11  loudness          3899 non-null   float64\n",
            " 12  speechiness       3899 non-null   float64\n",
            " 13  tempo             3899 non-null   float64\n",
            " 14  valence           3899 non-null   float64\n",
            " 15  time_signature    3899 non-null   int64  \n",
            " 16  key               3899 non-null   int64  \n",
            " 17  mode              3899 non-null   int64  \n",
            " 18  uri               3899 non-null   object \n",
            " 19  release_year      3899 non-null   int64  \n",
            " 20  top_year          3899 non-null   object \n",
            " 21  user              3899 non-null   object \n",
            "dtypes: float64(9), int64(6), object(7)\n",
            "memory usage: 670.3+ KB\n"
          ]
        }
      ],
      "source": [
        "df.info()"
      ]
    },
    {
      "cell_type": "code",
      "execution_count": 140,
      "metadata": {
        "colab": {
          "base_uri": "https://localhost:8080/"
        },
        "id": "PzPDBiJN834v",
        "outputId": "a1c2cb44-a522-4f8c-ade2-b9a7ec23de21"
      },
      "outputs": [
        {
          "data": {
            "text/plain": [
              "(3899, 22)"
            ]
          },
          "execution_count": 140,
          "metadata": {},
          "output_type": "execute_result"
        }
      ],
      "source": [
        "df.shape"
      ]
    },
    {
      "cell_type": "code",
      "execution_count": 141,
      "metadata": {
        "colab": {
          "base_uri": "https://localhost:8080/",
          "height": 320
        },
        "id": "EBaUBnh287gh",
        "outputId": "300b7bd9-d9ff-4739-9684-144166c60500"
      },
      "outputs": [
        {
          "data": {
            "text/html": [
              "<div>\n",
              "<style scoped>\n",
              "    .dataframe tbody tr th:only-of-type {\n",
              "        vertical-align: middle;\n",
              "    }\n",
              "\n",
              "    .dataframe tbody tr th {\n",
              "        vertical-align: top;\n",
              "    }\n",
              "\n",
              "    .dataframe thead th {\n",
              "        text-align: right;\n",
              "    }\n",
              "</style>\n",
              "<table border=\"1\" class=\"dataframe\">\n",
              "  <thead>\n",
              "    <tr style=\"text-align: right;\">\n",
              "      <th></th>\n",
              "      <th>length</th>\n",
              "      <th>popularity</th>\n",
              "      <th>acousticness</th>\n",
              "      <th>danceability</th>\n",
              "      <th>energy</th>\n",
              "      <th>instrumentalness</th>\n",
              "      <th>liveness</th>\n",
              "      <th>loudness</th>\n",
              "      <th>speechiness</th>\n",
              "      <th>tempo</th>\n",
              "      <th>valence</th>\n",
              "      <th>time_signature</th>\n",
              "      <th>key</th>\n",
              "      <th>mode</th>\n",
              "      <th>release_year</th>\n",
              "    </tr>\n",
              "  </thead>\n",
              "  <tbody>\n",
              "    <tr>\n",
              "      <th>count</th>\n",
              "      <td>3.899000e+03</td>\n",
              "      <td>3899.000000</td>\n",
              "      <td>3899.000000</td>\n",
              "      <td>3899.000000</td>\n",
              "      <td>3899.000000</td>\n",
              "      <td>3899.000000</td>\n",
              "      <td>3899.000000</td>\n",
              "      <td>3899.000000</td>\n",
              "      <td>3899.000000</td>\n",
              "      <td>3899.000000</td>\n",
              "      <td>3899.000000</td>\n",
              "      <td>3899.000000</td>\n",
              "      <td>3899.000000</td>\n",
              "      <td>3899.000000</td>\n",
              "      <td>3899.000000</td>\n",
              "    </tr>\n",
              "    <tr>\n",
              "      <th>mean</th>\n",
              "      <td>2.438545e+05</td>\n",
              "      <td>31.931521</td>\n",
              "      <td>0.425282</td>\n",
              "      <td>0.554342</td>\n",
              "      <td>0.522426</td>\n",
              "      <td>0.298067</td>\n",
              "      <td>0.167223</td>\n",
              "      <td>-10.454061</td>\n",
              "      <td>0.085069</td>\n",
              "      <td>115.836808</td>\n",
              "      <td>0.384133</td>\n",
              "      <td>3.873044</td>\n",
              "      <td>5.298025</td>\n",
              "      <td>0.467556</td>\n",
              "      <td>2008.102077</td>\n",
              "    </tr>\n",
              "    <tr>\n",
              "      <th>std</th>\n",
              "      <td>1.051106e+05</td>\n",
              "      <td>24.938656</td>\n",
              "      <td>0.363239</td>\n",
              "      <td>0.192042</td>\n",
              "      <td>0.265516</td>\n",
              "      <td>0.387045</td>\n",
              "      <td>0.143566</td>\n",
              "      <td>6.221795</td>\n",
              "      <td>0.092619</td>\n",
              "      <td>28.683508</td>\n",
              "      <td>0.254657</td>\n",
              "      <td>0.467562</td>\n",
              "      <td>3.505024</td>\n",
              "      <td>0.499010</td>\n",
              "      <td>97.161336</td>\n",
              "    </tr>\n",
              "    <tr>\n",
              "      <th>min</th>\n",
              "      <td>0.000000e+00</td>\n",
              "      <td>0.000000</td>\n",
              "      <td>0.000001</td>\n",
              "      <td>0.000000</td>\n",
              "      <td>0.000545</td>\n",
              "      <td>0.000000</td>\n",
              "      <td>0.017900</td>\n",
              "      <td>-42.117000</td>\n",
              "      <td>0.000000</td>\n",
              "      <td>0.000000</td>\n",
              "      <td>0.000000</td>\n",
              "      <td>0.000000</td>\n",
              "      <td>0.000000</td>\n",
              "      <td>0.000000</td>\n",
              "      <td>0.000000</td>\n",
              "    </tr>\n",
              "    <tr>\n",
              "      <th>25%</th>\n",
              "      <td>1.878725e+05</td>\n",
              "      <td>1.000000</td>\n",
              "      <td>0.057900</td>\n",
              "      <td>0.424000</td>\n",
              "      <td>0.312000</td>\n",
              "      <td>0.000004</td>\n",
              "      <td>0.094500</td>\n",
              "      <td>-12.837500</td>\n",
              "      <td>0.036800</td>\n",
              "      <td>94.554500</td>\n",
              "      <td>0.160000</td>\n",
              "      <td>4.000000</td>\n",
              "      <td>2.000000</td>\n",
              "      <td>0.000000</td>\n",
              "      <td>2012.000000</td>\n",
              "    </tr>\n",
              "    <tr>\n",
              "      <th>50%</th>\n",
              "      <td>2.241330e+05</td>\n",
              "      <td>34.000000</td>\n",
              "      <td>0.339000</td>\n",
              "      <td>0.575000</td>\n",
              "      <td>0.547000</td>\n",
              "      <td>0.005820</td>\n",
              "      <td>0.112000</td>\n",
              "      <td>-8.599000</td>\n",
              "      <td>0.047000</td>\n",
              "      <td>115.241000</td>\n",
              "      <td>0.355000</td>\n",
              "      <td>4.000000</td>\n",
              "      <td>5.000000</td>\n",
              "      <td>0.000000</td>\n",
              "      <td>2016.000000</td>\n",
              "    </tr>\n",
              "    <tr>\n",
              "      <th>75%</th>\n",
              "      <td>2.743165e+05</td>\n",
              "      <td>51.000000</td>\n",
              "      <td>0.793000</td>\n",
              "      <td>0.700000</td>\n",
              "      <td>0.738000</td>\n",
              "      <td>0.774000</td>\n",
              "      <td>0.172000</td>\n",
              "      <td>-6.225000</td>\n",
              "      <td>0.086500</td>\n",
              "      <td>131.984500</td>\n",
              "      <td>0.572000</td>\n",
              "      <td>4.000000</td>\n",
              "      <td>8.000000</td>\n",
              "      <td>1.000000</td>\n",
              "      <td>2018.000000</td>\n",
              "    </tr>\n",
              "    <tr>\n",
              "      <th>max</th>\n",
              "      <td>1.921683e+06</td>\n",
              "      <td>91.000000</td>\n",
              "      <td>0.996000</td>\n",
              "      <td>0.971000</td>\n",
              "      <td>0.995000</td>\n",
              "      <td>0.995000</td>\n",
              "      <td>0.991000</td>\n",
              "      <td>0.532000</td>\n",
              "      <td>0.952000</td>\n",
              "      <td>209.596000</td>\n",
              "      <td>0.981000</td>\n",
              "      <td>5.000000</td>\n",
              "      <td>11.000000</td>\n",
              "      <td>1.000000</td>\n",
              "      <td>2022.000000</td>\n",
              "    </tr>\n",
              "  </tbody>\n",
              "</table>\n",
              "</div>"
            ],
            "text/plain": [
              "             length   popularity  acousticness  danceability       energy  \\\n",
              "count  3.899000e+03  3899.000000   3899.000000   3899.000000  3899.000000   \n",
              "mean   2.438545e+05    31.931521      0.425282      0.554342     0.522426   \n",
              "std    1.051106e+05    24.938656      0.363239      0.192042     0.265516   \n",
              "min    0.000000e+00     0.000000      0.000001      0.000000     0.000545   \n",
              "25%    1.878725e+05     1.000000      0.057900      0.424000     0.312000   \n",
              "50%    2.241330e+05    34.000000      0.339000      0.575000     0.547000   \n",
              "75%    2.743165e+05    51.000000      0.793000      0.700000     0.738000   \n",
              "max    1.921683e+06    91.000000      0.996000      0.971000     0.995000   \n",
              "\n",
              "       instrumentalness     liveness     loudness  speechiness        tempo  \\\n",
              "count       3899.000000  3899.000000  3899.000000  3899.000000  3899.000000   \n",
              "mean           0.298067     0.167223   -10.454061     0.085069   115.836808   \n",
              "std            0.387045     0.143566     6.221795     0.092619    28.683508   \n",
              "min            0.000000     0.017900   -42.117000     0.000000     0.000000   \n",
              "25%            0.000004     0.094500   -12.837500     0.036800    94.554500   \n",
              "50%            0.005820     0.112000    -8.599000     0.047000   115.241000   \n",
              "75%            0.774000     0.172000    -6.225000     0.086500   131.984500   \n",
              "max            0.995000     0.991000     0.532000     0.952000   209.596000   \n",
              "\n",
              "           valence  time_signature          key         mode  release_year  \n",
              "count  3899.000000     3899.000000  3899.000000  3899.000000   3899.000000  \n",
              "mean      0.384133        3.873044     5.298025     0.467556   2008.102077  \n",
              "std       0.254657        0.467562     3.505024     0.499010     97.161336  \n",
              "min       0.000000        0.000000     0.000000     0.000000      0.000000  \n",
              "25%       0.160000        4.000000     2.000000     0.000000   2012.000000  \n",
              "50%       0.355000        4.000000     5.000000     0.000000   2016.000000  \n",
              "75%       0.572000        4.000000     8.000000     1.000000   2018.000000  \n",
              "max       0.981000        5.000000    11.000000     1.000000   2022.000000  "
            ]
          },
          "execution_count": 141,
          "metadata": {},
          "output_type": "execute_result"
        }
      ],
      "source": [
        "df.describe()"
      ]
    },
    {
      "cell_type": "code",
      "execution_count": 142,
      "metadata": {
        "colab": {
          "base_uri": "https://localhost:8080/",
          "height": 539
        },
        "id": "izmNOly89HN9",
        "outputId": "0bd17f2c-c3a0-4403-d15f-6edeaceb06dc"
      },
      "outputs": [
        {
          "data": {
            "text/html": [
              "<style type=\"text/css\">\n",
              "#T_a65de_row0_col0, #T_a65de_row1_col1, #T_a65de_row2_col2, #T_a65de_row3_col3, #T_a65de_row4_col4, #T_a65de_row5_col5, #T_a65de_row6_col6, #T_a65de_row7_col7, #T_a65de_row8_col8, #T_a65de_row9_col9, #T_a65de_row10_col10, #T_a65de_row11_col11, #T_a65de_row12_col12, #T_a65de_row13_col13, #T_a65de_row14_col14 {\n",
              "  background-color: #b40426;\n",
              "  color: #f1f1f1;\n",
              "}\n",
              "#T_a65de_row0_col1 {\n",
              "  background-color: #465ecf;\n",
              "  color: #f1f1f1;\n",
              "}\n",
              "#T_a65de_row0_col2 {\n",
              "  background-color: #cedaeb;\n",
              "  color: #000000;\n",
              "}\n",
              "#T_a65de_row0_col3, #T_a65de_row6_col9, #T_a65de_row7_col6, #T_a65de_row8_col9 {\n",
              "  background-color: #779af7;\n",
              "  color: #f1f1f1;\n",
              "}\n",
              "#T_a65de_row0_col4, #T_a65de_row12_col7, #T_a65de_row13_col4 {\n",
              "  background-color: #cad8ef;\n",
              "  color: #000000;\n",
              "}\n",
              "#T_a65de_row0_col5, #T_a65de_row3_col8, #T_a65de_row10_col8, #T_a65de_row13_col7 {\n",
              "  background-color: #c1d4f4;\n",
              "  color: #000000;\n",
              "}\n",
              "#T_a65de_row0_col6, #T_a65de_row2_col1, #T_a65de_row5_col11, #T_a65de_row14_col6 {\n",
              "  background-color: #5673e0;\n",
              "  color: #f1f1f1;\n",
              "}\n",
              "#T_a65de_row0_col7 {\n",
              "  background-color: #b6cefa;\n",
              "  color: #000000;\n",
              "}\n",
              "#T_a65de_row0_col8, #T_a65de_row1_col9, #T_a65de_row1_col11, #T_a65de_row13_col8 {\n",
              "  background-color: #7396f5;\n",
              "  color: #f1f1f1;\n",
              "}\n",
              "#T_a65de_row0_col9, #T_a65de_row0_col10, #T_a65de_row0_col14, #T_a65de_row8_col1, #T_a65de_row10_col12, #T_a65de_row14_col9 {\n",
              "  background-color: #6b8df0;\n",
              "  color: #f1f1f1;\n",
              "}\n",
              "#T_a65de_row0_col11, #T_a65de_row4_col12 {\n",
              "  background-color: #7093f3;\n",
              "  color: #f1f1f1;\n",
              "}\n",
              "#T_a65de_row0_col12, #T_a65de_row2_col10, #T_a65de_row10_col14, #T_a65de_row11_col14 {\n",
              "  background-color: #5977e3;\n",
              "  color: #f1f1f1;\n",
              "}\n",
              "#T_a65de_row0_col13, #T_a65de_row4_col5, #T_a65de_row7_col14, #T_a65de_row8_col12, #T_a65de_row9_col1, #T_a65de_row9_col6, #T_a65de_row11_col12, #T_a65de_row11_col13 {\n",
              "  background-color: #6687ed;\n",
              "  color: #f1f1f1;\n",
              "}\n",
              "#T_a65de_row1_col0, #T_a65de_row2_col12, #T_a65de_row10_col13 {\n",
              "  background-color: #5572df;\n",
              "  color: #f1f1f1;\n",
              "}\n",
              "#T_a65de_row1_col2, #T_a65de_row14_col2 {\n",
              "  background-color: #c9d7f0;\n",
              "  color: #000000;\n",
              "}\n",
              "#T_a65de_row1_col3, #T_a65de_row5_col4 {\n",
              "  background-color: #a6c4fe;\n",
              "  color: #000000;\n",
              "}\n",
              "#T_a65de_row1_col4, #T_a65de_row12_col4 {\n",
              "  background-color: #d6dce4;\n",
              "  color: #000000;\n",
              "}\n",
              "#T_a65de_row1_col5, #T_a65de_row12_col11, #T_a65de_row13_col11 {\n",
              "  background-color: #7a9df8;\n",
              "  color: #f1f1f1;\n",
              "}\n",
              "#T_a65de_row1_col6, #T_a65de_row3_col0 {\n",
              "  background-color: #4b64d5;\n",
              "  color: #f1f1f1;\n",
              "}\n",
              "#T_a65de_row1_col7, #T_a65de_row8_col10 {\n",
              "  background-color: #d4dbe6;\n",
              "  color: #000000;\n",
              "}\n",
              "#T_a65de_row1_col8 {\n",
              "  background-color: #88abfd;\n",
              "  color: #000000;\n",
              "}\n",
              "#T_a65de_row1_col10, #T_a65de_row7_col9, #T_a65de_row12_col10 {\n",
              "  background-color: #a3c2fe;\n",
              "  color: #000000;\n",
              "}\n",
              "#T_a65de_row1_col12 {\n",
              "  background-color: #6282ea;\n",
              "  color: #f1f1f1;\n",
              "}\n",
              "#T_a65de_row1_col13, #T_a65de_row12_col6, #T_a65de_row14_col12 {\n",
              "  background-color: #5e7de7;\n",
              "  color: #f1f1f1;\n",
              "}\n",
              "#T_a65de_row1_col14, #T_a65de_row5_col12, #T_a65de_row12_col1 {\n",
              "  background-color: #6180e9;\n",
              "  color: #f1f1f1;\n",
              "}\n",
              "#T_a65de_row2_col0, #T_a65de_row4_col1, #T_a65de_row11_col9 {\n",
              "  background-color: #6f92f3;\n",
              "  color: #f1f1f1;\n",
              "}\n",
              "#T_a65de_row2_col3, #T_a65de_row2_col4, #T_a65de_row2_col6, #T_a65de_row2_col7, #T_a65de_row2_col9, #T_a65de_row2_col11, #T_a65de_row4_col2, #T_a65de_row5_col1, #T_a65de_row5_col8, #T_a65de_row5_col10, #T_a65de_row5_col14, #T_a65de_row7_col5, #T_a65de_row10_col0, #T_a65de_row10_col5, #T_a65de_row12_col13, #T_a65de_row13_col12 {\n",
              "  background-color: #3b4cc0;\n",
              "  color: #f1f1f1;\n",
              "}\n",
              "#T_a65de_row2_col5 {\n",
              "  background-color: #c3d5f4;\n",
              "  color: #000000;\n",
              "}\n",
              "#T_a65de_row2_col8, #T_a65de_row9_col13 {\n",
              "  background-color: #516ddb;\n",
              "  color: #f1f1f1;\n",
              "}\n",
              "#T_a65de_row2_col13, #T_a65de_row3_col6, #T_a65de_row3_col13, #T_a65de_row8_col5, #T_a65de_row13_col6, #T_a65de_row13_col9 {\n",
              "  background-color: #5d7ce6;\n",
              "  color: #f1f1f1;\n",
              "}\n",
              "#T_a65de_row2_col14 {\n",
              "  background-color: #455cce;\n",
              "  color: #f1f1f1;\n",
              "}\n",
              "#T_a65de_row3_col1, #T_a65de_row6_col11, #T_a65de_row12_col9, #T_a65de_row13_col0, #T_a65de_row14_col1 {\n",
              "  background-color: #7295f4;\n",
              "  color: #f1f1f1;\n",
              "}\n",
              "#T_a65de_row3_col2, #T_a65de_row3_col9, #T_a65de_row6_col5 {\n",
              "  background-color: #85a8fc;\n",
              "  color: #f1f1f1;\n",
              "}\n",
              "#T_a65de_row3_col4, #T_a65de_row10_col4 {\n",
              "  background-color: #f7b497;\n",
              "  color: #000000;\n",
              "}\n",
              "#T_a65de_row3_col5, #T_a65de_row13_col14 {\n",
              "  background-color: #4358cb;\n",
              "  color: #f1f1f1;\n",
              "}\n",
              "#T_a65de_row3_col7, #T_a65de_row3_col10 {\n",
              "  background-color: #f7ad90;\n",
              "  color: #000000;\n",
              "}\n",
              "#T_a65de_row3_col11 {\n",
              "  background-color: #bbd1f8;\n",
              "  color: #000000;\n",
              "}\n",
              "#T_a65de_row3_col12, #T_a65de_row6_col0 {\n",
              "  background-color: #688aef;\n",
              "  color: #f1f1f1;\n",
              "}\n",
              "#T_a65de_row3_col14, #T_a65de_row8_col13, #T_a65de_row8_col14, #T_a65de_row11_col6, #T_a65de_row14_col13 {\n",
              "  background-color: #5875e1;\n",
              "  color: #f1f1f1;\n",
              "}\n",
              "#T_a65de_row4_col0, #T_a65de_row9_col12, #T_a65de_row11_col0 {\n",
              "  background-color: #6788ee;\n",
              "  color: #f1f1f1;\n",
              "}\n",
              "#T_a65de_row4_col3 {\n",
              "  background-color: #efcebd;\n",
              "  color: #000000;\n",
              "}\n",
              "#T_a65de_row4_col6 {\n",
              "  background-color: #8caffe;\n",
              "  color: #000000;\n",
              "}\n",
              "#T_a65de_row4_col7 {\n",
              "  background-color: #d75445;\n",
              "  color: #f1f1f1;\n",
              "}\n",
              "#T_a65de_row4_col8 {\n",
              "  background-color: #bcd2f7;\n",
              "  color: #000000;\n",
              "}\n",
              "#T_a65de_row4_col9 {\n",
              "  background-color: #aac7fd;\n",
              "  color: #000000;\n",
              "}\n",
              "#T_a65de_row4_col10 {\n",
              "  background-color: #f1cdba;\n",
              "  color: #000000;\n",
              "}\n",
              "#T_a65de_row4_col11, #T_a65de_row6_col10 {\n",
              "  background-color: #b7cff9;\n",
              "  color: #000000;\n",
              "}\n",
              "#T_a65de_row4_col13, #T_a65de_row7_col0, #T_a65de_row11_col1, #T_a65de_row13_col1 {\n",
              "  background-color: #5b7ae5;\n",
              "  color: #f1f1f1;\n",
              "}\n",
              "#T_a65de_row4_col14, #T_a65de_row5_col9, #T_a65de_row5_col13, #T_a65de_row6_col13 {\n",
              "  background-color: #6384eb;\n",
              "  color: #f1f1f1;\n",
              "}\n",
              "#T_a65de_row5_col0, #T_a65de_row6_col8, #T_a65de_row10_col2, #T_a65de_row12_col3 {\n",
              "  background-color: #9dbdff;\n",
              "  color: #000000;\n",
              "}\n",
              "#T_a65de_row5_col2, #T_a65de_row6_col4 {\n",
              "  background-color: #e5d8d1;\n",
              "  color: #000000;\n",
              "}\n",
              "#T_a65de_row5_col3 {\n",
              "  background-color: #3d50c3;\n",
              "  color: #f1f1f1;\n",
              "}\n",
              "#T_a65de_row5_col6 {\n",
              "  background-color: #4257c9;\n",
              "  color: #f1f1f1;\n",
              "}\n",
              "#T_a65de_row5_col7 {\n",
              "  background-color: #6e90f2;\n",
              "  color: #f1f1f1;\n",
              "}\n",
              "#T_a65de_row6_col1 {\n",
              "  background-color: #506bda;\n",
              "  color: #f1f1f1;\n",
              "}\n",
              "#T_a65de_row6_col2 {\n",
              "  background-color: #b9d0f9;\n",
              "  color: #000000;\n",
              "}\n",
              "#T_a65de_row6_col3 {\n",
              "  background-color: #98b9ff;\n",
              "  color: #000000;\n",
              "}\n",
              "#T_a65de_row6_col7 {\n",
              "  background-color: #d3dbe7;\n",
              "  color: #000000;\n",
              "}\n",
              "#T_a65de_row6_col12, #T_a65de_row8_col0, #T_a65de_row12_col0 {\n",
              "  background-color: #6485ec;\n",
              "  color: #f1f1f1;\n",
              "}\n",
              "#T_a65de_row6_col14 {\n",
              "  background-color: #4961d2;\n",
              "  color: #f1f1f1;\n",
              "}\n",
              "#T_a65de_row7_col1, #T_a65de_row8_col6 {\n",
              "  background-color: #7da0f9;\n",
              "  color: #f1f1f1;\n",
              "}\n",
              "#T_a65de_row7_col2, #T_a65de_row9_col14 {\n",
              "  background-color: #4c66d6;\n",
              "  color: #f1f1f1;\n",
              "}\n",
              "#T_a65de_row7_col3 {\n",
              "  background-color: #f5c2aa;\n",
              "  color: #000000;\n",
              "}\n",
              "#T_a65de_row7_col4 {\n",
              "  background-color: #d55042;\n",
              "  color: #f1f1f1;\n",
              "}\n",
              "#T_a65de_row7_col8 {\n",
              "  background-color: #b2ccfb;\n",
              "  color: #000000;\n",
              "}\n",
              "#T_a65de_row7_col10 {\n",
              "  background-color: #f1ccb8;\n",
              "  color: #000000;\n",
              "}\n",
              "#T_a65de_row7_col11 {\n",
              "  background-color: #bad0f8;\n",
              "  color: #000000;\n",
              "}\n",
              "#T_a65de_row7_col12, #T_a65de_row9_col0 {\n",
              "  background-color: #6c8ff1;\n",
              "  color: #f1f1f1;\n",
              "}\n",
              "#T_a65de_row7_col13 {\n",
              "  background-color: #5f7fe8;\n",
              "  color: #f1f1f1;\n",
              "}\n",
              "#T_a65de_row8_col2, #T_a65de_row9_col10 {\n",
              "  background-color: #b1cbfc;\n",
              "  color: #000000;\n",
              "}\n",
              "#T_a65de_row8_col3 {\n",
              "  background-color: #d2dbe8;\n",
              "  color: #000000;\n",
              "}\n",
              "#T_a65de_row8_col4, #T_a65de_row11_col4 {\n",
              "  background-color: #edd1c2;\n",
              "  color: #000000;\n",
              "}\n",
              "#T_a65de_row8_col7 {\n",
              "  background-color: #e2dad5;\n",
              "  color: #000000;\n",
              "}\n",
              "#T_a65de_row8_col11, #T_a65de_row14_col0 {\n",
              "  background-color: #89acfd;\n",
              "  color: #000000;\n",
              "}\n",
              "#T_a65de_row9_col2, #T_a65de_row9_col3 {\n",
              "  background-color: #abc8fd;\n",
              "  color: #000000;\n",
              "}\n",
              "#T_a65de_row9_col4 {\n",
              "  background-color: #ebd3c6;\n",
              "  color: #000000;\n",
              "}\n",
              "#T_a65de_row9_col5, #T_a65de_row13_col3 {\n",
              "  background-color: #93b5fe;\n",
              "  color: #000000;\n",
              "}\n",
              "#T_a65de_row9_col7 {\n",
              "  background-color: #e1dad6;\n",
              "  color: #000000;\n",
              "}\n",
              "#T_a65de_row9_col8, #T_a65de_row10_col9, #T_a65de_row14_col8 {\n",
              "  background-color: #86a9fc;\n",
              "  color: #f1f1f1;\n",
              "}\n",
              "#T_a65de_row9_col11 {\n",
              "  background-color: #799cf8;\n",
              "  color: #f1f1f1;\n",
              "}\n",
              "#T_a65de_row10_col1 {\n",
              "  background-color: #6a8bef;\n",
              "  color: #f1f1f1;\n",
              "}\n",
              "#T_a65de_row10_col3 {\n",
              "  background-color: #f7af91;\n",
              "  color: #000000;\n",
              "}\n",
              "#T_a65de_row10_col6 {\n",
              "  background-color: #7ea1fa;\n",
              "  color: #f1f1f1;\n",
              "}\n",
              "#T_a65de_row10_col7 {\n",
              "  background-color: #f7b99e;\n",
              "  color: #000000;\n",
              "}\n",
              "#T_a65de_row10_col11 {\n",
              "  background-color: #a2c1ff;\n",
              "  color: #000000;\n",
              "}\n",
              "#T_a65de_row11_col2, #T_a65de_row14_col10 {\n",
              "  background-color: #a5c3fe;\n",
              "  color: #000000;\n",
              "}\n",
              "#T_a65de_row11_col3, #T_a65de_row14_col7 {\n",
              "  background-color: #d1dae9;\n",
              "  color: #000000;\n",
              "}\n",
              "#T_a65de_row11_col5 {\n",
              "  background-color: #80a3fa;\n",
              "  color: #f1f1f1;\n",
              "}\n",
              "#T_a65de_row11_col7 {\n",
              "  background-color: #e9d5cb;\n",
              "  color: #000000;\n",
              "}\n",
              "#T_a65de_row11_col8, #T_a65de_row13_col10 {\n",
              "  background-color: #90b2fe;\n",
              "  color: #000000;\n",
              "}\n",
              "#T_a65de_row11_col10 {\n",
              "  background-color: #c0d4f5;\n",
              "  color: #000000;\n",
              "}\n",
              "#T_a65de_row12_col2 {\n",
              "  background-color: #c6d6f1;\n",
              "  color: #000000;\n",
              "}\n",
              "#T_a65de_row12_col5 {\n",
              "  background-color: #9bbcff;\n",
              "  color: #000000;\n",
              "}\n",
              "#T_a65de_row12_col8 {\n",
              "  background-color: #82a6fb;\n",
              "  color: #f1f1f1;\n",
              "}\n",
              "#T_a65de_row12_col14 {\n",
              "  background-color: #4a63d3;\n",
              "  color: #f1f1f1;\n",
              "}\n",
              "#T_a65de_row13_col2 {\n",
              "  background-color: #cbd8ee;\n",
              "  color: #000000;\n",
              "}\n",
              "#T_a65de_row13_col5 {\n",
              "  background-color: #9ebeff;\n",
              "  color: #000000;\n",
              "}\n",
              "#T_a65de_row14_col3 {\n",
              "  background-color: #9fbfff;\n",
              "  color: #000000;\n",
              "}\n",
              "#T_a65de_row14_col4 {\n",
              "  background-color: #d8dce2;\n",
              "  color: #000000;\n",
              "}\n",
              "#T_a65de_row14_col5 {\n",
              "  background-color: #8badfd;\n",
              "  color: #000000;\n",
              "}\n",
              "#T_a65de_row14_col11 {\n",
              "  background-color: #81a4fb;\n",
              "  color: #f1f1f1;\n",
              "}\n",
              "</style>\n",
              "<table id=\"T_a65de\">\n",
              "  <thead>\n",
              "    <tr>\n",
              "      <th class=\"blank level0\" >&nbsp;</th>\n",
              "      <th id=\"T_a65de_level0_col0\" class=\"col_heading level0 col0\" >length</th>\n",
              "      <th id=\"T_a65de_level0_col1\" class=\"col_heading level0 col1\" >popularity</th>\n",
              "      <th id=\"T_a65de_level0_col2\" class=\"col_heading level0 col2\" >acousticness</th>\n",
              "      <th id=\"T_a65de_level0_col3\" class=\"col_heading level0 col3\" >danceability</th>\n",
              "      <th id=\"T_a65de_level0_col4\" class=\"col_heading level0 col4\" >energy</th>\n",
              "      <th id=\"T_a65de_level0_col5\" class=\"col_heading level0 col5\" >instrumentalness</th>\n",
              "      <th id=\"T_a65de_level0_col6\" class=\"col_heading level0 col6\" >liveness</th>\n",
              "      <th id=\"T_a65de_level0_col7\" class=\"col_heading level0 col7\" >loudness</th>\n",
              "      <th id=\"T_a65de_level0_col8\" class=\"col_heading level0 col8\" >speechiness</th>\n",
              "      <th id=\"T_a65de_level0_col9\" class=\"col_heading level0 col9\" >tempo</th>\n",
              "      <th id=\"T_a65de_level0_col10\" class=\"col_heading level0 col10\" >valence</th>\n",
              "      <th id=\"T_a65de_level0_col11\" class=\"col_heading level0 col11\" >time_signature</th>\n",
              "      <th id=\"T_a65de_level0_col12\" class=\"col_heading level0 col12\" >key</th>\n",
              "      <th id=\"T_a65de_level0_col13\" class=\"col_heading level0 col13\" >mode</th>\n",
              "      <th id=\"T_a65de_level0_col14\" class=\"col_heading level0 col14\" >release_year</th>\n",
              "    </tr>\n",
              "  </thead>\n",
              "  <tbody>\n",
              "    <tr>\n",
              "      <th id=\"T_a65de_level0_row0\" class=\"row_heading level0 row0\" >length</th>\n",
              "      <td id=\"T_a65de_row0_col0\" class=\"data row0 col0\" >1.000000</td>\n",
              "      <td id=\"T_a65de_row0_col1\" class=\"data row0 col1\" >-0.088026</td>\n",
              "      <td id=\"T_a65de_row0_col2\" class=\"data row0 col2\" >0.007331</td>\n",
              "      <td id=\"T_a65de_row0_col3\" class=\"data row0 col3\" >-0.124683</td>\n",
              "      <td id=\"T_a65de_row0_col4\" class=\"data row0 col4\" >-0.019994</td>\n",
              "      <td id=\"T_a65de_row0_col5\" class=\"data row0 col5\" >0.158906</td>\n",
              "      <td id=\"T_a65de_row0_col6\" class=\"data row0 col6\" >-0.014035</td>\n",
              "      <td id=\"T_a65de_row0_col7\" class=\"data row0 col7\" >-0.062254</td>\n",
              "      <td id=\"T_a65de_row0_col8\" class=\"data row0 col8\" >-0.031832</td>\n",
              "      <td id=\"T_a65de_row0_col9\" class=\"data row0 col9\" >-0.003923</td>\n",
              "      <td id=\"T_a65de_row0_col10\" class=\"data row0 col10\" >-0.190487</td>\n",
              "      <td id=\"T_a65de_row0_col11\" class=\"data row0 col11\" >-0.019107</td>\n",
              "      <td id=\"T_a65de_row0_col12\" class=\"data row0 col12\" >-0.028136</td>\n",
              "      <td id=\"T_a65de_row0_col13\" class=\"data row0 col13\" >0.015170</td>\n",
              "      <td id=\"T_a65de_row0_col14\" class=\"data row0 col14\" >0.096603</td>\n",
              "    </tr>\n",
              "    <tr>\n",
              "      <th id=\"T_a65de_level0_row1\" class=\"row_heading level0 row1\" >popularity</th>\n",
              "      <td id=\"T_a65de_row1_col0\" class=\"data row1 col0\" >-0.088026</td>\n",
              "      <td id=\"T_a65de_row1_col1\" class=\"data row1 col1\" >1.000000</td>\n",
              "      <td id=\"T_a65de_row1_col2\" class=\"data row1 col2\" >-0.032033</td>\n",
              "      <td id=\"T_a65de_row1_col3\" class=\"data row1 col3\" >0.060828</td>\n",
              "      <td id=\"T_a65de_row1_col4\" class=\"data row1 col4\" >0.052753</td>\n",
              "      <td id=\"T_a65de_row1_col5\" class=\"data row1 col5\" >-0.134268</td>\n",
              "      <td id=\"T_a65de_row1_col6\" class=\"data row1 col6\" >-0.053727</td>\n",
              "      <td id=\"T_a65de_row1_col7\" class=\"data row1 col7\" >0.099014</td>\n",
              "      <td id=\"T_a65de_row1_col8\" class=\"data row1 col8\" >0.040620</td>\n",
              "      <td id=\"T_a65de_row1_col9\" class=\"data row1 col9\" >0.022080</td>\n",
              "      <td id=\"T_a65de_row1_col10\" class=\"data row1 col10\" >0.036711</td>\n",
              "      <td id=\"T_a65de_row1_col11\" class=\"data row1 col11\" >-0.011790</td>\n",
              "      <td id=\"T_a65de_row1_col12\" class=\"data row1 col12\" >0.003350</td>\n",
              "      <td id=\"T_a65de_row1_col13\" class=\"data row1 col13\" >-0.010620</td>\n",
              "      <td id=\"T_a65de_row1_col14\" class=\"data row1 col14\" >0.063230</td>\n",
              "    </tr>\n",
              "    <tr>\n",
              "      <th id=\"T_a65de_level0_row2\" class=\"row_heading level0 row2\" >acousticness</th>\n",
              "      <td id=\"T_a65de_row2_col0\" class=\"data row2 col0\" >0.007331</td>\n",
              "      <td id=\"T_a65de_row2_col1\" class=\"data row2 col1\" >-0.032033</td>\n",
              "      <td id=\"T_a65de_row2_col2\" class=\"data row2 col2\" >1.000000</td>\n",
              "      <td id=\"T_a65de_row2_col3\" class=\"data row2 col3\" >-0.385869</td>\n",
              "      <td id=\"T_a65de_row2_col4\" class=\"data row2 col4\" >-0.797987</td>\n",
              "      <td id=\"T_a65de_row2_col5\" class=\"data row2 col5\" >0.162656</td>\n",
              "      <td id=\"T_a65de_row2_col6\" class=\"data row2 col6\" >-0.118428</td>\n",
              "      <td id=\"T_a65de_row2_col7\" class=\"data row2 col7\" >-0.687455</td>\n",
              "      <td id=\"T_a65de_row2_col8\" class=\"data row2 col8\" >-0.163141</td>\n",
              "      <td id=\"T_a65de_row2_col9\" class=\"data row2 col9\" >-0.187542</td>\n",
              "      <td id=\"T_a65de_row2_col10\" class=\"data row2 col10\" >-0.270180</td>\n",
              "      <td id=\"T_a65de_row2_col11\" class=\"data row2 col11\" >-0.227627</td>\n",
              "      <td id=\"T_a65de_row2_col12\" class=\"data row2 col12\" >-0.040663</td>\n",
              "      <td id=\"T_a65de_row2_col13\" class=\"data row2 col13\" >-0.014416</td>\n",
              "      <td id=\"T_a65de_row2_col14\" class=\"data row2 col14\" >-0.030040</td>\n",
              "    </tr>\n",
              "    <tr>\n",
              "      <th id=\"T_a65de_level0_row3\" class=\"row_heading level0 row3\" >danceability</th>\n",
              "      <td id=\"T_a65de_row3_col0\" class=\"data row3 col0\" >-0.124683</td>\n",
              "      <td id=\"T_a65de_row3_col1\" class=\"data row3 col1\" >0.060828</td>\n",
              "      <td id=\"T_a65de_row3_col2\" class=\"data row3 col2\" >-0.385869</td>\n",
              "      <td id=\"T_a65de_row3_col3\" class=\"data row3 col3\" >1.000000</td>\n",
              "      <td id=\"T_a65de_row3_col4\" class=\"data row3 col4\" >0.421123</td>\n",
              "      <td id=\"T_a65de_row3_col5\" class=\"data row3 col5\" >-0.371393</td>\n",
              "      <td id=\"T_a65de_row3_col6\" class=\"data row3 col6\" >0.007821</td>\n",
              "      <td id=\"T_a65de_row3_col7\" class=\"data row3 col7\" >0.490519</td>\n",
              "      <td id=\"T_a65de_row3_col8\" class=\"data row3 col8\" >0.250913</td>\n",
              "      <td id=\"T_a65de_row3_col9\" class=\"data row3 col9\" >0.083521</td>\n",
              "      <td id=\"T_a65de_row3_col10\" class=\"data row3 col10\" >0.573522</td>\n",
              "      <td id=\"T_a65de_row3_col11\" class=\"data row3 col11\" >0.243418</td>\n",
              "      <td id=\"T_a65de_row3_col12\" class=\"data row3 col12\" >0.024259</td>\n",
              "      <td id=\"T_a65de_row3_col13\" class=\"data row3 col13\" >-0.015917</td>\n",
              "      <td id=\"T_a65de_row3_col14\" class=\"data row3 col14\" >0.032325</td>\n",
              "    </tr>\n",
              "    <tr>\n",
              "      <th id=\"T_a65de_level0_row4\" class=\"row_heading level0 row4\" >energy</th>\n",
              "      <td id=\"T_a65de_row4_col0\" class=\"data row4 col0\" >-0.019994</td>\n",
              "      <td id=\"T_a65de_row4_col1\" class=\"data row4 col1\" >0.052753</td>\n",
              "      <td id=\"T_a65de_row4_col2\" class=\"data row4 col2\" >-0.797987</td>\n",
              "      <td id=\"T_a65de_row4_col3\" class=\"data row4 col3\" >0.421123</td>\n",
              "      <td id=\"T_a65de_row4_col4\" class=\"data row4 col4\" >1.000000</td>\n",
              "      <td id=\"T_a65de_row4_col5\" class=\"data row4 col5\" >-0.216903</td>\n",
              "      <td id=\"T_a65de_row4_col6\" class=\"data row4 col6\" >0.159815</td>\n",
              "      <td id=\"T_a65de_row4_col7\" class=\"data row4 col7\" >0.827510</td>\n",
              "      <td id=\"T_a65de_row4_col8\" class=\"data row4 col8\" >0.232281</td>\n",
              "      <td id=\"T_a65de_row4_col9\" class=\"data row4 col9\" >0.207460</td>\n",
              "      <td id=\"T_a65de_row4_col10\" class=\"data row4 col10\" >0.423638</td>\n",
              "      <td id=\"T_a65de_row4_col11\" class=\"data row4 col11\" >0.231689</td>\n",
              "      <td id=\"T_a65de_row4_col12\" class=\"data row4 col12\" >0.052657</td>\n",
              "      <td id=\"T_a65de_row4_col13\" class=\"data row4 col13\" >-0.022409</td>\n",
              "      <td id=\"T_a65de_row4_col14\" class=\"data row4 col14\" >0.071542</td>\n",
              "    </tr>\n",
              "    <tr>\n",
              "      <th id=\"T_a65de_level0_row5\" class=\"row_heading level0 row5\" >instrumentalness</th>\n",
              "      <td id=\"T_a65de_row5_col0\" class=\"data row5 col0\" >0.158906</td>\n",
              "      <td id=\"T_a65de_row5_col1\" class=\"data row5 col1\" >-0.134268</td>\n",
              "      <td id=\"T_a65de_row5_col2\" class=\"data row5 col2\" >0.162656</td>\n",
              "      <td id=\"T_a65de_row5_col3\" class=\"data row5 col3\" >-0.371393</td>\n",
              "      <td id=\"T_a65de_row5_col4\" class=\"data row5 col4\" >-0.216903</td>\n",
              "      <td id=\"T_a65de_row5_col5\" class=\"data row5 col5\" >1.000000</td>\n",
              "      <td id=\"T_a65de_row5_col6\" class=\"data row5 col6\" >-0.091014</td>\n",
              "      <td id=\"T_a65de_row5_col7\" class=\"data row5 col7\" >-0.413768</td>\n",
              "      <td id=\"T_a65de_row5_col8\" class=\"data row5 col8\" >-0.257743</td>\n",
              "      <td id=\"T_a65de_row5_col9\" class=\"data row5 col9\" >-0.034325</td>\n",
              "      <td id=\"T_a65de_row5_col10\" class=\"data row5 col10\" >-0.408852</td>\n",
              "      <td id=\"T_a65de_row5_col11\" class=\"data row5 col11\" >-0.115028</td>\n",
              "      <td id=\"T_a65de_row5_col12\" class=\"data row5 col12\" >-0.000342</td>\n",
              "      <td id=\"T_a65de_row5_col13\" class=\"data row5 col13\" >0.006519</td>\n",
              "      <td id=\"T_a65de_row5_col14\" class=\"data row5 col14\" >-0.068077</td>\n",
              "    </tr>\n",
              "    <tr>\n",
              "      <th id=\"T_a65de_level0_row6\" class=\"row_heading level0 row6\" >liveness</th>\n",
              "      <td id=\"T_a65de_row6_col0\" class=\"data row6 col0\" >-0.014035</td>\n",
              "      <td id=\"T_a65de_row6_col1\" class=\"data row6 col1\" >-0.053727</td>\n",
              "      <td id=\"T_a65de_row6_col2\" class=\"data row6 col2\" >-0.118428</td>\n",
              "      <td id=\"T_a65de_row6_col3\" class=\"data row6 col3\" >0.007821</td>\n",
              "      <td id=\"T_a65de_row6_col4\" class=\"data row6 col4\" >0.159815</td>\n",
              "      <td id=\"T_a65de_row6_col5\" class=\"data row6 col5\" >-0.091014</td>\n",
              "      <td id=\"T_a65de_row6_col6\" class=\"data row6 col6\" >1.000000</td>\n",
              "      <td id=\"T_a65de_row6_col7\" class=\"data row6 col7\" >0.094982</td>\n",
              "      <td id=\"T_a65de_row6_col8\" class=\"data row6 col8\" >0.111315</td>\n",
              "      <td id=\"T_a65de_row6_col9\" class=\"data row6 col9\" >0.038524</td>\n",
              "      <td id=\"T_a65de_row6_col10\" class=\"data row6 col10\" >0.114820</td>\n",
              "      <td id=\"T_a65de_row6_col11\" class=\"data row6 col11\" >-0.012658</td>\n",
              "      <td id=\"T_a65de_row6_col12\" class=\"data row6 col12\" >0.009195</td>\n",
              "      <td id=\"T_a65de_row6_col13\" class=\"data row6 col13\" >0.006436</td>\n",
              "      <td id=\"T_a65de_row6_col14\" class=\"data row6 col14\" >-0.015441</td>\n",
              "    </tr>\n",
              "    <tr>\n",
              "      <th id=\"T_a65de_level0_row7\" class=\"row_heading level0 row7\" >loudness</th>\n",
              "      <td id=\"T_a65de_row7_col0\" class=\"data row7 col0\" >-0.062254</td>\n",
              "      <td id=\"T_a65de_row7_col1\" class=\"data row7 col1\" >0.099014</td>\n",
              "      <td id=\"T_a65de_row7_col2\" class=\"data row7 col2\" >-0.687455</td>\n",
              "      <td id=\"T_a65de_row7_col3\" class=\"data row7 col3\" >0.490519</td>\n",
              "      <td id=\"T_a65de_row7_col4\" class=\"data row7 col4\" >0.827510</td>\n",
              "      <td id=\"T_a65de_row7_col5\" class=\"data row7 col5\" >-0.413768</td>\n",
              "      <td id=\"T_a65de_row7_col6\" class=\"data row7 col6\" >0.094982</td>\n",
              "      <td id=\"T_a65de_row7_col7\" class=\"data row7 col7\" >1.000000</td>\n",
              "      <td id=\"T_a65de_row7_col8\" class=\"data row7 col8\" >0.192365</td>\n",
              "      <td id=\"T_a65de_row7_col9\" class=\"data row7 col9\" >0.183819</td>\n",
              "      <td id=\"T_a65de_row7_col10\" class=\"data row7 col10\" >0.429349</td>\n",
              "      <td id=\"T_a65de_row7_col11\" class=\"data row7 col11\" >0.238307</td>\n",
              "      <td id=\"T_a65de_row7_col12\" class=\"data row7 col12\" >0.039452</td>\n",
              "      <td id=\"T_a65de_row7_col13\" class=\"data row7 col13\" >-0.006611</td>\n",
              "      <td id=\"T_a65de_row7_col14\" class=\"data row7 col14\" >0.081472</td>\n",
              "    </tr>\n",
              "    <tr>\n",
              "      <th id=\"T_a65de_level0_row8\" class=\"row_heading level0 row8\" >speechiness</th>\n",
              "      <td id=\"T_a65de_row8_col0\" class=\"data row8 col0\" >-0.031832</td>\n",
              "      <td id=\"T_a65de_row8_col1\" class=\"data row8 col1\" >0.040620</td>\n",
              "      <td id=\"T_a65de_row8_col2\" class=\"data row8 col2\" >-0.163141</td>\n",
              "      <td id=\"T_a65de_row8_col3\" class=\"data row8 col3\" >0.250913</td>\n",
              "      <td id=\"T_a65de_row8_col4\" class=\"data row8 col4\" >0.232281</td>\n",
              "      <td id=\"T_a65de_row8_col5\" class=\"data row8 col5\" >-0.257743</td>\n",
              "      <td id=\"T_a65de_row8_col6\" class=\"data row8 col6\" >0.111315</td>\n",
              "      <td id=\"T_a65de_row8_col7\" class=\"data row8 col7\" >0.192365</td>\n",
              "      <td id=\"T_a65de_row8_col8\" class=\"data row8 col8\" >1.000000</td>\n",
              "      <td id=\"T_a65de_row8_col9\" class=\"data row8 col9\" >0.036294</td>\n",
              "      <td id=\"T_a65de_row8_col10\" class=\"data row8 col10\" >0.251527</td>\n",
              "      <td id=\"T_a65de_row8_col11\" class=\"data row8 col11\" >0.068401</td>\n",
              "      <td id=\"T_a65de_row8_col12\" class=\"data row8 col12\" >0.017423</td>\n",
              "      <td id=\"T_a65de_row8_col13\" class=\"data row8 col13\" >-0.033994</td>\n",
              "      <td id=\"T_a65de_row8_col14\" class=\"data row8 col14\" >0.034922</td>\n",
              "    </tr>\n",
              "    <tr>\n",
              "      <th id=\"T_a65de_level0_row9\" class=\"row_heading level0 row9\" >tempo</th>\n",
              "      <td id=\"T_a65de_row9_col0\" class=\"data row9 col0\" >-0.003923</td>\n",
              "      <td id=\"T_a65de_row9_col1\" class=\"data row9 col1\" >0.022080</td>\n",
              "      <td id=\"T_a65de_row9_col2\" class=\"data row9 col2\" >-0.187542</td>\n",
              "      <td id=\"T_a65de_row9_col3\" class=\"data row9 col3\" >0.083521</td>\n",
              "      <td id=\"T_a65de_row9_col4\" class=\"data row9 col4\" >0.207460</td>\n",
              "      <td id=\"T_a65de_row9_col5\" class=\"data row9 col5\" >-0.034325</td>\n",
              "      <td id=\"T_a65de_row9_col6\" class=\"data row9 col6\" >0.038524</td>\n",
              "      <td id=\"T_a65de_row9_col7\" class=\"data row9 col7\" >0.183819</td>\n",
              "      <td id=\"T_a65de_row9_col8\" class=\"data row9 col8\" >0.036294</td>\n",
              "      <td id=\"T_a65de_row9_col9\" class=\"data row9 col9\" >1.000000</td>\n",
              "      <td id=\"T_a65de_row9_col10\" class=\"data row9 col10\" >0.088486</td>\n",
              "      <td id=\"T_a65de_row9_col11\" class=\"data row9 col11\" >0.010127</td>\n",
              "      <td id=\"T_a65de_row9_col12\" class=\"data row9 col12\" >0.019245</td>\n",
              "      <td id=\"T_a65de_row9_col13\" class=\"data row9 col13\" >-0.057424</td>\n",
              "      <td id=\"T_a65de_row9_col14\" class=\"data row9 col14\" >-0.003462</td>\n",
              "    </tr>\n",
              "    <tr>\n",
              "      <th id=\"T_a65de_level0_row10\" class=\"row_heading level0 row10\" >valence</th>\n",
              "      <td id=\"T_a65de_row10_col0\" class=\"data row10 col0\" >-0.190487</td>\n",
              "      <td id=\"T_a65de_row10_col1\" class=\"data row10 col1\" >0.036711</td>\n",
              "      <td id=\"T_a65de_row10_col2\" class=\"data row10 col2\" >-0.270180</td>\n",
              "      <td id=\"T_a65de_row10_col3\" class=\"data row10 col3\" >0.573522</td>\n",
              "      <td id=\"T_a65de_row10_col4\" class=\"data row10 col4\" >0.423638</td>\n",
              "      <td id=\"T_a65de_row10_col5\" class=\"data row10 col5\" >-0.408852</td>\n",
              "      <td id=\"T_a65de_row10_col6\" class=\"data row10 col6\" >0.114820</td>\n",
              "      <td id=\"T_a65de_row10_col7\" class=\"data row10 col7\" >0.429349</td>\n",
              "      <td id=\"T_a65de_row10_col8\" class=\"data row10 col8\" >0.251527</td>\n",
              "      <td id=\"T_a65de_row10_col9\" class=\"data row10 col9\" >0.088486</td>\n",
              "      <td id=\"T_a65de_row10_col10\" class=\"data row10 col10\" >1.000000</td>\n",
              "      <td id=\"T_a65de_row10_col11\" class=\"data row10 col11\" >0.155572</td>\n",
              "      <td id=\"T_a65de_row10_col12\" class=\"data row10 col12\" >0.031930</td>\n",
              "      <td id=\"T_a65de_row10_col13\" class=\"data row10 col13\" >-0.041358</td>\n",
              "      <td id=\"T_a65de_row10_col14\" class=\"data row10 col14\" >0.037768</td>\n",
              "    </tr>\n",
              "    <tr>\n",
              "      <th id=\"T_a65de_level0_row11\" class=\"row_heading level0 row11\" >time_signature</th>\n",
              "      <td id=\"T_a65de_row11_col0\" class=\"data row11 col0\" >-0.019107</td>\n",
              "      <td id=\"T_a65de_row11_col1\" class=\"data row11 col1\" >-0.011790</td>\n",
              "      <td id=\"T_a65de_row11_col2\" class=\"data row11 col2\" >-0.227627</td>\n",
              "      <td id=\"T_a65de_row11_col3\" class=\"data row11 col3\" >0.243418</td>\n",
              "      <td id=\"T_a65de_row11_col4\" class=\"data row11 col4\" >0.231689</td>\n",
              "      <td id=\"T_a65de_row11_col5\" class=\"data row11 col5\" >-0.115028</td>\n",
              "      <td id=\"T_a65de_row11_col6\" class=\"data row11 col6\" >-0.012658</td>\n",
              "      <td id=\"T_a65de_row11_col7\" class=\"data row11 col7\" >0.238307</td>\n",
              "      <td id=\"T_a65de_row11_col8\" class=\"data row11 col8\" >0.068401</td>\n",
              "      <td id=\"T_a65de_row11_col9\" class=\"data row11 col9\" >0.010127</td>\n",
              "      <td id=\"T_a65de_row11_col10\" class=\"data row11 col10\" >0.155572</td>\n",
              "      <td id=\"T_a65de_row11_col11\" class=\"data row11 col11\" >1.000000</td>\n",
              "      <td id=\"T_a65de_row11_col12\" class=\"data row11 col12\" >0.016675</td>\n",
              "      <td id=\"T_a65de_row11_col13\" class=\"data row11 col13\" >0.014778</td>\n",
              "      <td id=\"T_a65de_row11_col14\" class=\"data row11 col14\" >0.040165</td>\n",
              "    </tr>\n",
              "    <tr>\n",
              "      <th id=\"T_a65de_level0_row12\" class=\"row_heading level0 row12\" >key</th>\n",
              "      <td id=\"T_a65de_row12_col0\" class=\"data row12 col0\" >-0.028136</td>\n",
              "      <td id=\"T_a65de_row12_col1\" class=\"data row12 col1\" >0.003350</td>\n",
              "      <td id=\"T_a65de_row12_col2\" class=\"data row12 col2\" >-0.040663</td>\n",
              "      <td id=\"T_a65de_row12_col3\" class=\"data row12 col3\" >0.024259</td>\n",
              "      <td id=\"T_a65de_row12_col4\" class=\"data row12 col4\" >0.052657</td>\n",
              "      <td id=\"T_a65de_row12_col5\" class=\"data row12 col5\" >-0.000342</td>\n",
              "      <td id=\"T_a65de_row12_col6\" class=\"data row12 col6\" >0.009195</td>\n",
              "      <td id=\"T_a65de_row12_col7\" class=\"data row12 col7\" >0.039452</td>\n",
              "      <td id=\"T_a65de_row12_col8\" class=\"data row12 col8\" >0.017423</td>\n",
              "      <td id=\"T_a65de_row12_col9\" class=\"data row12 col9\" >0.019245</td>\n",
              "      <td id=\"T_a65de_row12_col10\" class=\"data row12 col10\" >0.031930</td>\n",
              "      <td id=\"T_a65de_row12_col11\" class=\"data row12 col11\" >0.016675</td>\n",
              "      <td id=\"T_a65de_row12_col12\" class=\"data row12 col12\" >1.000000</td>\n",
              "      <td id=\"T_a65de_row12_col13\" class=\"data row12 col13\" >-0.143199</td>\n",
              "      <td id=\"T_a65de_row12_col14\" class=\"data row12 col14\" >-0.011287</td>\n",
              "    </tr>\n",
              "    <tr>\n",
              "      <th id=\"T_a65de_level0_row13\" class=\"row_heading level0 row13\" >mode</th>\n",
              "      <td id=\"T_a65de_row13_col0\" class=\"data row13 col0\" >0.015170</td>\n",
              "      <td id=\"T_a65de_row13_col1\" class=\"data row13 col1\" >-0.010620</td>\n",
              "      <td id=\"T_a65de_row13_col2\" class=\"data row13 col2\" >-0.014416</td>\n",
              "      <td id=\"T_a65de_row13_col3\" class=\"data row13 col3\" >-0.015917</td>\n",
              "      <td id=\"T_a65de_row13_col4\" class=\"data row13 col4\" >-0.022409</td>\n",
              "      <td id=\"T_a65de_row13_col5\" class=\"data row13 col5\" >0.006519</td>\n",
              "      <td id=\"T_a65de_row13_col6\" class=\"data row13 col6\" >0.006436</td>\n",
              "      <td id=\"T_a65de_row13_col7\" class=\"data row13 col7\" >-0.006611</td>\n",
              "      <td id=\"T_a65de_row13_col8\" class=\"data row13 col8\" >-0.033994</td>\n",
              "      <td id=\"T_a65de_row13_col9\" class=\"data row13 col9\" >-0.057424</td>\n",
              "      <td id=\"T_a65de_row13_col10\" class=\"data row13 col10\" >-0.041358</td>\n",
              "      <td id=\"T_a65de_row13_col11\" class=\"data row13 col11\" >0.014778</td>\n",
              "      <td id=\"T_a65de_row13_col12\" class=\"data row13 col12\" >-0.143199</td>\n",
              "      <td id=\"T_a65de_row13_col13\" class=\"data row13 col13\" >1.000000</td>\n",
              "      <td id=\"T_a65de_row13_col14\" class=\"data row13 col14\" >-0.034743</td>\n",
              "    </tr>\n",
              "    <tr>\n",
              "      <th id=\"T_a65de_level0_row14\" class=\"row_heading level0 row14\" >release_year</th>\n",
              "      <td id=\"T_a65de_row14_col0\" class=\"data row14 col0\" >0.096603</td>\n",
              "      <td id=\"T_a65de_row14_col1\" class=\"data row14 col1\" >0.063230</td>\n",
              "      <td id=\"T_a65de_row14_col2\" class=\"data row14 col2\" >-0.030040</td>\n",
              "      <td id=\"T_a65de_row14_col3\" class=\"data row14 col3\" >0.032325</td>\n",
              "      <td id=\"T_a65de_row14_col4\" class=\"data row14 col4\" >0.071542</td>\n",
              "      <td id=\"T_a65de_row14_col5\" class=\"data row14 col5\" >-0.068077</td>\n",
              "      <td id=\"T_a65de_row14_col6\" class=\"data row14 col6\" >-0.015441</td>\n",
              "      <td id=\"T_a65de_row14_col7\" class=\"data row14 col7\" >0.081472</td>\n",
              "      <td id=\"T_a65de_row14_col8\" class=\"data row14 col8\" >0.034922</td>\n",
              "      <td id=\"T_a65de_row14_col9\" class=\"data row14 col9\" >-0.003462</td>\n",
              "      <td id=\"T_a65de_row14_col10\" class=\"data row14 col10\" >0.037768</td>\n",
              "      <td id=\"T_a65de_row14_col11\" class=\"data row14 col11\" >0.040165</td>\n",
              "      <td id=\"T_a65de_row14_col12\" class=\"data row14 col12\" >-0.011287</td>\n",
              "      <td id=\"T_a65de_row14_col13\" class=\"data row14 col13\" >-0.034743</td>\n",
              "      <td id=\"T_a65de_row14_col14\" class=\"data row14 col14\" >1.000000</td>\n",
              "    </tr>\n",
              "  </tbody>\n",
              "</table>\n"
            ],
            "text/plain": [
              "<pandas.io.formats.style.Styler at 0x192568d55d0>"
            ]
          },
          "execution_count": 142,
          "metadata": {},
          "output_type": "execute_result"
        }
      ],
      "source": [
        "# display the correlation matrix between numeric variables\n",
        "corr = df.corr(numeric_only = True)\n",
        "corr.style.background_gradient(cmap = 'coolwarm')"
      ]
    },
    {
      "cell_type": "markdown",
      "metadata": {
        "id": "p-AqRBYFA2iZ"
      },
      "source": [
        "## 3.1 - Distribution of Release Years:"
      ]
    },
    {
      "cell_type": "code",
      "execution_count": 143,
      "metadata": {
        "colab": {
          "base_uri": "https://localhost:8080/"
        },
        "id": "CXz48Hqe-D8_",
        "outputId": "12f1507e-aa61-4349-8be6-3ce34bbce1d1"
      },
      "outputs": [
        {
          "data": {
            "text/plain": [
              "array([1996, 2018, 2019, 2016, 2017, 2020, 2013, 2015, 2022, 2004, 2014,\n",
              "       2012, 2007, 2006, 1980, 2008, 2021,    0, 1998, 2011, 1990, 1971,\n",
              "       2009, 2002, 1981, 2010, 1962, 1984, 2005, 1992, 2003, 2000, 1969,\n",
              "       1976, 1974, 1970, 1999, 2001, 1957, 1995, 1994, 1975, 1997, 1991,\n",
              "       1989, 1983, 1968, 1987, 1985, 1979, 1966, 1967, 1959, 1988, 1986,\n",
              "       1977, 1972, 1982, 1958, 1973, 1960, 1964, 1961, 1965, 1978, 1963],\n",
              "      dtype=int64)"
            ]
          },
          "execution_count": 143,
          "metadata": {},
          "output_type": "execute_result"
        }
      ],
      "source": [
        "df['release_year'].unique()"
      ]
    },
    {
      "cell_type": "code",
      "execution_count": 144,
      "metadata": {
        "colab": {
          "base_uri": "https://localhost:8080/",
          "height": 463
        },
        "id": "MKim27sg9jWs",
        "outputId": "1d03128e-b045-4b48-d477-5d934377dbf4"
      },
      "outputs": [
        {
          "data": {
            "image/png": "[encoded data removed]",
            "text/plain": [
              "<Figure size 1100x600 with 1 Axes>"
            ]
          },
          "metadata": {},
          "output_type": "display_data"
        }
      ],
      "source": [
        "def get_decade(year):\n",
        "    period_start = int(year / 10) * 10\n",
        "    decade = '{}s'.format(period_start)\n",
        "    return decade\n",
        "\n",
        "\n",
        "decade_df = df.copy()\n",
        "\n",
        "decade_df['decade'] = decade_df['release_year'].apply(get_decade)\n",
        "\n",
        "decade_order = sorted(decade_df['decade'].unique())\n",
        "decade_df['decade'] = pd.Categorical(decade_df['decade'], categories=decade_order, ordered=True)\n",
        "\n",
        "\n",
        "sns.set(rc={'figure.figsize': (11, 6)})\n",
        "sns.countplot(data=decade_df, x='decade')\n",
        "plt.ylabel('Number of songs')\n",
        "\n",
        "plt.show()"
      ]
    },
    {
      "cell_type": "markdown",
      "metadata": {
        "id": "hOREGnAuBFHI"
      },
      "source": [
        "##3.2 - Distribution of Musical Features:"
      ]
    },
    {
      "cell_type": "code",
      "execution_count": 145,
      "metadata": {
        "colab": {
          "base_uri": "https://localhost:8080/",
          "height": 0
        },
        "id": "VFsLUBoxC0Pp",
        "outputId": "9f1dfa39-0afb-4413-ff86-f51d12f52409"
      },
      "outputs": [
        {
          "data": {
            "text/plain": [
              "<matplotlib.legend.Legend at 0x19255b14f40>"
            ]
          },
          "execution_count": 145,
          "metadata": {},
          "output_type": "execute_result"
        },
        {
          "data": {
            "image/png": "[encoded data removed]",
            "text/plain": [
              "<Figure size 1200x600 with 1 Axes>"
            ]
          },
          "metadata": {},
          "output_type": "display_data"
        }
      ],
      "source": [
        "sound_features = ['acousticness', 'danceability', 'energy', 'instrumentalness', 'liveness', 'valence']\n",
        "\n",
        "sns.set(rc={'figure.figsize': (12, 6)})\n",
        "fig, ax = plt.subplots()\n",
        "\n",
        "for feature in sound_features:\n",
        "    sns.lineplot(data=decade_df, x='decade', y=feature, label=feature, ax=ax)\n",
        "\n",
        "ax.set_title('Trends in Sound Features Over the Years')\n",
        "ax.set_ylabel('Feature Value')\n",
        "ax.legend(title='Sound Features')"
      ]
    },
    {
      "cell_type": "markdown",
      "metadata": {
        "id": "Bx6Uf7K1Cjun"
      },
      "source": [
        "##3.3 - Artist and Album Popularity:"
      ]
    },
    {
      "cell_type": "code",
      "execution_count": 146,
      "metadata": {
        "colab": {
          "base_uri": "https://localhost:8080/",
          "height": 0
        },
        "id": "2tA9gqYnFHFZ",
        "outputId": "5912a43e-aa20-44d1-b114-6a87adce5196"
      },
      "outputs": [
        {
          "data": {
            "image/png": "[encoded data removed]",
            "text/plain": [
              "<Figure size 1200x600 with 1 Axes>"
            ]
          },
          "metadata": {},
          "output_type": "display_data"
        }
      ],
      "source": [
        "top_artists = df.groupby('artist')['popularity'].mean().sort_values(ascending=False).head(10)\n",
        "\n",
        "sns.set(rc={'figure.figsize': (12, 6)})\n",
        "fig, ax = plt.subplots()\n",
        "\n",
        "# Use barplot directly on the Axes object\n",
        "sns.barplot(x=top_artists.index, y=top_artists.values, ax=ax)\n",
        "\n",
        "ax.set_title('Top 10 Artists by Popularity')\n",
        "ax.set_xlabel('Artist')\n",
        "ax.set_ylabel('Mean Popularity')\n",
        "\n",
        "plt.xticks(rotation=45, ha='right')  # Rotate x-axis labels for better readability\n",
        "plt.show()"
      ]
    },
    {
      "cell_type": "code",
      "execution_count": 147,
      "metadata": {
        "colab": {
          "base_uri": "https://localhost:8080/",
          "height": 0
        },
        "id": "dH1N1D6nGNpX",
        "outputId": "00f82793-0af0-41ae-bd50-ec8dfd3fc303"
      },
      "outputs": [
        {
          "data": {
            "image/png": "[encoded data removed]",
            "text/plain": [
              "<Figure size 1200x600 with 1 Axes>"
            ]
          },
          "metadata": {},
          "output_type": "display_data"
        }
      ],
      "source": [
        "top_album = df.groupby('album')['popularity'].mean().sort_values(ascending=False).head(10)\n",
        "\n",
        "sns.set(rc={'figure.figsize': (12, 6)})\n",
        "fig, ax = plt.subplots()\n",
        "\n",
        "# Use barplot directly on the Axes object\n",
        "sns.barplot(x=top_album.index, y=top_album.values, ax=ax)\n",
        "\n",
        "ax.set_title('Top 10 Album by Popularity')\n",
        "ax.set_xlabel('Album')\n",
        "ax.set_ylabel('Mean Popularity')\n",
        "\n",
        "plt.xticks(rotation=45, ha='right')  # Rotate x-axis labels for better readability\n",
        "plt.show()"
      ]
    },
    {
      "cell_type": "markdown",
      "metadata": {
        "id": "luux1Ly-Gm_O"
      },
      "source": [
        "##3.4 - User Analysis:"
      ]
    },
    {
      "cell_type": "code",
      "execution_count": 148,
      "metadata": {
        "colab": {
          "base_uri": "https://localhost:8080/"
        },
        "id": "CxBriWLxG7zX",
        "outputId": "4e678b2d-afb1-4f26-8757-17aac3f5998a"
      },
      "outputs": [
        {
          "name": "stdout",
          "output_type": "stream",
          "text": [
            "Number of unique users: 7\n"
          ]
        }
      ],
      "source": [
        "num_users = df['user'].nunique()\n",
        "print(f\"Number of unique users: {num_users}\")"
      ]
    },
    {
      "cell_type": "code",
      "execution_count": 149,
      "metadata": {
        "colab": {
          "base_uri": "https://localhost:8080/"
        },
        "id": "bSGOHWhHG-kW",
        "outputId": "9ca85ec2-cbb9-4366-ae48-d91685445e70"
      },
      "outputs": [
        {
          "data": {
            "text/plain": [
              "array(['unknown', 'delta', 'gamma', 'alpha', 'dzeta', 'beta', 'epsilon'],\n",
              "      dtype=object)"
            ]
          },
          "execution_count": 149,
          "metadata": {},
          "output_type": "execute_result"
        }
      ],
      "source": [
        "df['user'].unique()"
      ]
    },
    {
      "cell_type": "markdown",
      "metadata": {
        "id": "VeivfBmlHUFK"
      },
      "source": [
        "## 3.5- Song Durations:"
      ]
    },
    {
      "cell_type": "code",
      "execution_count": 150,
      "metadata": {
        "colab": {
          "base_uri": "https://localhost:8080/",
          "height": 443
        },
        "id": "ugHVq_4VHVjV",
        "outputId": "9656bb8f-ef4f-487b-b753-039f782f6ef5"
      },
      "outputs": [
        {
          "data": {
            "image/png": "[encoded data removed]",
            "text/plain": [
              "<Figure size 1200x600 with 1 Axes>"
            ]
          },
          "metadata": {},
          "output_type": "display_data"
        }
      ],
      "source": [
        "plt.figure(figsize=(12, 6))\n",
        "sns.histplot(df['length'], bins=30, kde=True, color='skyblue')\n",
        "plt.title('Distribution of Song Lengths')\n",
        "plt.xlabel('Song Length (in seconds)')\n",
        "plt.ylabel('Frequency')\n",
        "\n",
        "plt.show()"
      ]
    },
    {
      "cell_type": "code",
      "execution_count": 151,
      "metadata": {
        "colab": {
          "base_uri": "https://localhost:8080/",
          "height": 522
        },
        "id": "NxeUTI3zS9lG",
        "outputId": "0b13c4d1-525a-45a4-8e66-d7ad88700fc6"
      },
      "outputs": [
        {
          "data": {
            "image/png": "[encoded data removed]",
            "text/plain": [
              "<Figure size 1200x800 with 1 Axes>"
            ]
          },
          "metadata": {},
          "output_type": "display_data"
        }
      ],
      "source": [
        "\n",
        "annees_a_analyser = [2010, 2015, 2020]  # Remplacez cela par les années que vous souhaitez analyser\n",
        "\n",
        "\n",
        "features_to_analyze = ['acousticness', 'danceability', 'energy', 'instrumentalness', 'liveness', 'loudness', 'speechiness', 'tempo', 'valence']\n",
        "\n",
        "\n",
        "selected_data = df[df['release_year'].isin(annees_a_analyser)][features_to_analyze]\n",
        "\n",
        "\n",
        "variability = selected_data.std()\n",
        "\n",
        "plt.figure(figsize=(12, 8))\n",
        "variability.sort_values().plot(kind='barh', color='skyblue')\n",
        "plt.title('Variabilité des Caractéristiques Musicales par Année')\n",
        "plt.xlabel('Écart-type')\n",
        "plt.ylabel('Caractéristique')\n",
        "plt.show()\n"
      ]
    },
    {
      "cell_type": "markdown",
      "metadata": {
        "id": "UDyn93mVcPQA"
      },
      "source": [
        "## 4 - Data Preprocessing ⚒️"
      ]
    },
    {
      "cell_type": "markdown",
      "metadata": {
        "id": "YuWhsPbAcf8j"
      },
      "source": [
        "## 4.1 - Handling Missing Data"
      ]
    },
    {
      "cell_type": "code",
      "execution_count": 152,
      "metadata": {},
      "outputs": [],
      "source": [
        "df_unknown = df[(df['top_year']=='unknown')]"
      ]
    },
    {
      "cell_type": "code",
      "execution_count": 153,
      "metadata": {},
      "outputs": [
        {
          "data": {
            "text/html": [
              "<div>\n",
              "<style scoped>\n",
              "    .dataframe tbody tr th:only-of-type {\n",
              "        vertical-align: middle;\n",
              "    }\n",
              "\n",
              "    .dataframe tbody tr th {\n",
              "        vertical-align: top;\n",
              "    }\n",
              "\n",
              "    .dataframe thead th {\n",
              "        text-align: right;\n",
              "    }\n",
              "</style>\n",
              "<table border=\"1\" class=\"dataframe\">\n",
              "  <thead>\n",
              "    <tr style=\"text-align: right;\">\n",
              "      <th></th>\n",
              "      <th>name</th>\n",
              "      <th>album</th>\n",
              "      <th>artist</th>\n",
              "      <th>release_date</th>\n",
              "      <th>length</th>\n",
              "      <th>popularity</th>\n",
              "      <th>acousticness</th>\n",
              "      <th>danceability</th>\n",
              "      <th>energy</th>\n",
              "      <th>instrumentalness</th>\n",
              "      <th>...</th>\n",
              "      <th>speechiness</th>\n",
              "      <th>tempo</th>\n",
              "      <th>valence</th>\n",
              "      <th>time_signature</th>\n",
              "      <th>key</th>\n",
              "      <th>mode</th>\n",
              "      <th>uri</th>\n",
              "      <th>release_year</th>\n",
              "      <th>top_year</th>\n",
              "      <th>user</th>\n",
              "    </tr>\n",
              "  </thead>\n",
              "  <tbody>\n",
              "    <tr>\n",
              "      <th>0</th>\n",
              "      <td>Variations on a Polish Theme, Op. 10: No. 5 An...</td>\n",
              "      <td>Szymanowski: Piano Works, Vol. 2</td>\n",
              "      <td>Karol Szymanowski</td>\n",
              "      <td>06/12/1996</td>\n",
              "      <td>76933</td>\n",
              "      <td>53</td>\n",
              "      <td>0.996</td>\n",
              "      <td>0.329</td>\n",
              "      <td>0.00695</td>\n",
              "      <td>0.866</td>\n",
              "      <td>...</td>\n",
              "      <td>0.0448</td>\n",
              "      <td>70.295</td>\n",
              "      <td>0.2380</td>\n",
              "      <td>4</td>\n",
              "      <td>11</td>\n",
              "      <td>0</td>\n",
              "      <td>spotify:track:3bcdLMrAxrfn5dxInjIdI2</td>\n",
              "      <td>1996</td>\n",
              "      <td>unknown</td>\n",
              "      <td>unknown</td>\n",
              "    </tr>\n",
              "    <tr>\n",
              "      <th>75</th>\n",
              "      <td>For J√≥hann</td>\n",
              "      <td>Bach Reworks (Pt. 1)</td>\n",
              "      <td>V√≠kingur √ìlafsson</td>\n",
              "      <td>05/10/2018</td>\n",
              "      <td>183773</td>\n",
              "      <td>22</td>\n",
              "      <td>0.994</td>\n",
              "      <td>0.629</td>\n",
              "      <td>0.09140</td>\n",
              "      <td>0.947</td>\n",
              "      <td>...</td>\n",
              "      <td>0.0406</td>\n",
              "      <td>111.454</td>\n",
              "      <td>0.2410</td>\n",
              "      <td>4</td>\n",
              "      <td>0</td>\n",
              "      <td>0</td>\n",
              "      <td>spotify:track:5BzsTKLEKQMDhPwbCZOrn5</td>\n",
              "      <td>2018</td>\n",
              "      <td>unknown</td>\n",
              "      <td>unknown</td>\n",
              "    </tr>\n",
              "    <tr>\n",
              "      <th>80</th>\n",
              "      <td>Concerto For Piano And Orchestra In G, Second ...</td>\n",
              "      <td>Gershwin's World</td>\n",
              "      <td>Herbie Hancock</td>\n",
              "      <td>01/01/1998</td>\n",
              "      <td>551666</td>\n",
              "      <td>20</td>\n",
              "      <td>0.981</td>\n",
              "      <td>0.208</td>\n",
              "      <td>0.09940</td>\n",
              "      <td>0.919</td>\n",
              "      <td>...</td>\n",
              "      <td>0.0342</td>\n",
              "      <td>62.543</td>\n",
              "      <td>0.0420</td>\n",
              "      <td>4</td>\n",
              "      <td>4</td>\n",
              "      <td>1</td>\n",
              "      <td>spotify:track:4rL06iWdtarlSqlxgU2N14</td>\n",
              "      <td>1998</td>\n",
              "      <td>unknown</td>\n",
              "      <td>unknown</td>\n",
              "    </tr>\n",
              "    <tr>\n",
              "      <th>92</th>\n",
              "      <td>This Reminds You - Satie Remix</td>\n",
              "      <td>Shadows</td>\n",
              "      <td>Remy Van Kesteren</td>\n",
              "      <td>15/02/2019</td>\n",
              "      <td>321146</td>\n",
              "      <td>26</td>\n",
              "      <td>0.870</td>\n",
              "      <td>0.258</td>\n",
              "      <td>0.05890</td>\n",
              "      <td>0.898</td>\n",
              "      <td>...</td>\n",
              "      <td>0.0381</td>\n",
              "      <td>98.874</td>\n",
              "      <td>0.0378</td>\n",
              "      <td>4</td>\n",
              "      <td>5</td>\n",
              "      <td>0</td>\n",
              "      <td>spotify:track:3rruI72VDoIINSuAhryTOL</td>\n",
              "      <td>2019</td>\n",
              "      <td>unknown</td>\n",
              "      <td>unknown</td>\n",
              "    </tr>\n",
              "    <tr>\n",
              "      <th>150</th>\n",
              "      <td>Sull Lull</td>\n",
              "      <td>Madar</td>\n",
              "      <td>Jan Garbarek</td>\n",
              "      <td>1992</td>\n",
              "      <td>1009706</td>\n",
              "      <td>27</td>\n",
              "      <td>0.913</td>\n",
              "      <td>0.502</td>\n",
              "      <td>0.30400</td>\n",
              "      <td>0.857</td>\n",
              "      <td>...</td>\n",
              "      <td>0.0473</td>\n",
              "      <td>105.740</td>\n",
              "      <td>0.5590</td>\n",
              "      <td>4</td>\n",
              "      <td>7</td>\n",
              "      <td>0</td>\n",
              "      <td>spotify:track:3DzBR3hE8hzutFqlB1jjmk</td>\n",
              "      <td>1992</td>\n",
              "      <td>unknown</td>\n",
              "      <td>unknown</td>\n",
              "    </tr>\n",
              "  </tbody>\n",
              "</table>\n",
              "<p>5 rows × 22 columns</p>\n",
              "</div>"
            ],
            "text/plain": [
              "                                                  name  \\\n",
              "0    Variations on a Polish Theme, Op. 10: No. 5 An...   \n",
              "75                                         For J√≥hann   \n",
              "80   Concerto For Piano And Orchestra In G, Second ...   \n",
              "92                      This Reminds You - Satie Remix   \n",
              "150                                          Sull Lull   \n",
              "\n",
              "                                album               artist release_date  \\\n",
              "0    Szymanowski: Piano Works, Vol. 2    Karol Szymanowski   06/12/1996   \n",
              "75               Bach Reworks (Pt. 1)  V√≠kingur √ìlafsson   05/10/2018   \n",
              "80                   Gershwin's World       Herbie Hancock   01/01/1998   \n",
              "92                            Shadows    Remy Van Kesteren   15/02/2019   \n",
              "150                             Madar         Jan Garbarek         1992   \n",
              "\n",
              "      length  popularity  acousticness  danceability   energy  \\\n",
              "0      76933          53         0.996         0.329  0.00695   \n",
              "75    183773          22         0.994         0.629  0.09140   \n",
              "80    551666          20         0.981         0.208  0.09940   \n",
              "92    321146          26         0.870         0.258  0.05890   \n",
              "150  1009706          27         0.913         0.502  0.30400   \n",
              "\n",
              "     instrumentalness  ...  speechiness    tempo  valence  time_signature  \\\n",
              "0               0.866  ...       0.0448   70.295   0.2380               4   \n",
              "75              0.947  ...       0.0406  111.454   0.2410               4   \n",
              "80              0.919  ...       0.0342   62.543   0.0420               4   \n",
              "92              0.898  ...       0.0381   98.874   0.0378               4   \n",
              "150             0.857  ...       0.0473  105.740   0.5590               4   \n",
              "\n",
              "     key  mode                                   uri  release_year top_year  \\\n",
              "0     11     0  spotify:track:3bcdLMrAxrfn5dxInjIdI2          1996  unknown   \n",
              "75     0     0  spotify:track:5BzsTKLEKQMDhPwbCZOrn5          2018  unknown   \n",
              "80     4     1  spotify:track:4rL06iWdtarlSqlxgU2N14          1998  unknown   \n",
              "92     5     0  spotify:track:3rruI72VDoIINSuAhryTOL          2019  unknown   \n",
              "150    7     0  spotify:track:3DzBR3hE8hzutFqlB1jjmk          1992  unknown   \n",
              "\n",
              "        user  \n",
              "0    unknown  \n",
              "75   unknown  \n",
              "80   unknown  \n",
              "92   unknown  \n",
              "150  unknown  \n",
              "\n",
              "[5 rows x 22 columns]"
            ]
          },
          "execution_count": 153,
          "metadata": {},
          "output_type": "execute_result"
        }
      ],
      "source": [
        "df_unknown.head()"
      ]
    },
    {
      "cell_type": "code",
      "execution_count": 154,
      "metadata": {},
      "outputs": [
        {
          "data": {
            "text/html": [
              "<div>\n",
              "<style scoped>\n",
              "    .dataframe tbody tr th:only-of-type {\n",
              "        vertical-align: middle;\n",
              "    }\n",
              "\n",
              "    .dataframe tbody tr th {\n",
              "        vertical-align: top;\n",
              "    }\n",
              "\n",
              "    .dataframe thead th {\n",
              "        text-align: right;\n",
              "    }\n",
              "</style>\n",
              "<table border=\"1\" class=\"dataframe\">\n",
              "  <thead>\n",
              "    <tr style=\"text-align: right;\">\n",
              "      <th></th>\n",
              "      <th>user</th>\n",
              "      <th>top_year</th>\n",
              "      <th>user_year</th>\n",
              "    </tr>\n",
              "  </thead>\n",
              "  <tbody>\n",
              "    <tr>\n",
              "      <th>0</th>\n",
              "      <td>unknown</td>\n",
              "      <td>unknown</td>\n",
              "      <td>unknown_unknown</td>\n",
              "    </tr>\n",
              "    <tr>\n",
              "      <th>75</th>\n",
              "      <td>unknown</td>\n",
              "      <td>unknown</td>\n",
              "      <td>unknown_unknown</td>\n",
              "    </tr>\n",
              "    <tr>\n",
              "      <th>80</th>\n",
              "      <td>unknown</td>\n",
              "      <td>unknown</td>\n",
              "      <td>unknown_unknown</td>\n",
              "    </tr>\n",
              "    <tr>\n",
              "      <th>92</th>\n",
              "      <td>unknown</td>\n",
              "      <td>unknown</td>\n",
              "      <td>unknown_unknown</td>\n",
              "    </tr>\n",
              "    <tr>\n",
              "      <th>150</th>\n",
              "      <td>unknown</td>\n",
              "      <td>unknown</td>\n",
              "      <td>unknown_unknown</td>\n",
              "    </tr>\n",
              "  </tbody>\n",
              "</table>\n",
              "</div>"
            ],
            "text/plain": [
              "        user top_year        user_year\n",
              "0    unknown  unknown  unknown_unknown\n",
              "75   unknown  unknown  unknown_unknown\n",
              "80   unknown  unknown  unknown_unknown\n",
              "92   unknown  unknown  unknown_unknown\n",
              "150  unknown  unknown  unknown_unknown"
            ]
          },
          "execution_count": 154,
          "metadata": {},
          "output_type": "execute_result"
        }
      ],
      "source": [
        "\n",
        "df_unknown['user_year'] = df_unknown['user'] + '_' + df_unknown['top_year'].astype(str)\n",
        "\n",
        "\n",
        "df_unknown[['user', 'top_year', 'user_year']].head()"
      ]
    },
    {
      "cell_type": "code",
      "execution_count": 155,
      "metadata": {},
      "outputs": [],
      "source": [
        "# Extraction des colonnes catégoriques\n",
        "categorical_columns = ['name', 'album', 'artist', 'uri','top_year','user_year']\n",
        "\n",
        "label_encoder = LabelEncoder()\n",
        "\n",
        "for column in categorical_columns:\n",
        "    df_unknown[column] = label_encoder.fit_transform(df_unknown[column])"
      ]
    },
    {
      "cell_type": "code",
      "execution_count": 156,
      "metadata": {},
      "outputs": [
        {
          "data": {
            "text/html": [
              "<div>\n",
              "<style scoped>\n",
              "    .dataframe tbody tr th:only-of-type {\n",
              "        vertical-align: middle;\n",
              "    }\n",
              "\n",
              "    .dataframe tbody tr th {\n",
              "        vertical-align: top;\n",
              "    }\n",
              "\n",
              "    .dataframe thead th {\n",
              "        text-align: right;\n",
              "    }\n",
              "</style>\n",
              "<table border=\"1\" class=\"dataframe\">\n",
              "  <thead>\n",
              "    <tr style=\"text-align: right;\">\n",
              "      <th></th>\n",
              "      <th>user</th>\n",
              "      <th>top_year</th>\n",
              "      <th>user_year</th>\n",
              "    </tr>\n",
              "  </thead>\n",
              "  <tbody>\n",
              "    <tr>\n",
              "      <th>0</th>\n",
              "      <td>unknown</td>\n",
              "      <td>0</td>\n",
              "      <td>0</td>\n",
              "    </tr>\n",
              "    <tr>\n",
              "      <th>75</th>\n",
              "      <td>unknown</td>\n",
              "      <td>0</td>\n",
              "      <td>0</td>\n",
              "    </tr>\n",
              "    <tr>\n",
              "      <th>80</th>\n",
              "      <td>unknown</td>\n",
              "      <td>0</td>\n",
              "      <td>0</td>\n",
              "    </tr>\n",
              "    <tr>\n",
              "      <th>92</th>\n",
              "      <td>unknown</td>\n",
              "      <td>0</td>\n",
              "      <td>0</td>\n",
              "    </tr>\n",
              "    <tr>\n",
              "      <th>150</th>\n",
              "      <td>unknown</td>\n",
              "      <td>0</td>\n",
              "      <td>0</td>\n",
              "    </tr>\n",
              "  </tbody>\n",
              "</table>\n",
              "</div>"
            ],
            "text/plain": [
              "        user  top_year  user_year\n",
              "0    unknown         0          0\n",
              "75   unknown         0          0\n",
              "80   unknown         0          0\n",
              "92   unknown         0          0\n",
              "150  unknown         0          0"
            ]
          },
          "execution_count": 156,
          "metadata": {},
          "output_type": "execute_result"
        }
      ],
      "source": [
        "df_unknown[['user', 'top_year', 'user_year']].head()"
      ]
    },
    {
      "cell_type": "code",
      "execution_count": 157,
      "metadata": {},
      "outputs": [],
      "source": [
        "df_unknown = df_unknown.drop(['release_date','user'],axis=1)"
      ]
    },
    {
      "cell_type": "code",
      "execution_count": 158,
      "metadata": {},
      "outputs": [
        {
          "data": {
            "text/plain": [
              "array([0])"
            ]
          },
          "execution_count": 158,
          "metadata": {},
          "output_type": "execute_result"
        }
      ],
      "source": [
        "df_unknown['user_year'].unique()"
      ]
    },
    {
      "cell_type": "code",
      "execution_count": 159,
      "metadata": {},
      "outputs": [],
      "source": [
        "df = df[df['top_year'] != 'unknown']\n"
      ]
    },
    {
      "cell_type": "code",
      "execution_count": 160,
      "metadata": {
        "colab": {
          "base_uri": "https://localhost:8080/"
        },
        "id": "MP3WUB6JcYj6",
        "outputId": "0a2e24c9-5de3-4cea-9673-bbc5cd16c9de"
      },
      "outputs": [
        {
          "data": {
            "text/plain": [
              "name                9\n",
              "album               9\n",
              "artist              0\n",
              "release_date        0\n",
              "length              0\n",
              "popularity          0\n",
              "acousticness        0\n",
              "danceability        0\n",
              "energy              0\n",
              "instrumentalness    0\n",
              "liveness            0\n",
              "loudness            0\n",
              "speechiness         0\n",
              "tempo               0\n",
              "valence             0\n",
              "time_signature      0\n",
              "key                 0\n",
              "mode                0\n",
              "uri                 0\n",
              "release_year        0\n",
              "top_year            0\n",
              "user                0\n",
              "dtype: int64"
            ]
          },
          "execution_count": 160,
          "metadata": {},
          "output_type": "execute_result"
        }
      ],
      "source": [
        "# checking for missing values in data\n",
        "df.isna().sum()"
      ]
    },
    {
      "cell_type": "markdown",
      "metadata": {
        "id": "hZMV1uz2cxIq"
      },
      "source": [
        "2 columns with 9 missings values:\n",
        "1.   name\n",
        "1.   album\n",
        "\n",
        "\n",
        "\n",
        "\n",
        "\n",
        "\n",
        "\n",
        "\n"
      ]
    },
    {
      "cell_type": "code",
      "execution_count": 161,
      "metadata": {
        "id": "SQCubfo6hX37"
      },
      "outputs": [],
      "source": [
        "df = df.dropna()\n"
      ]
    },
    {
      "cell_type": "code",
      "execution_count": 162,
      "metadata": {
        "colab": {
          "base_uri": "https://localhost:8080/"
        },
        "id": "JEivMGBhhaE-",
        "outputId": "af81eac9-506b-424e-d6a6-9bcef01c23f4"
      },
      "outputs": [
        {
          "data": {
            "text/plain": [
              "name                0\n",
              "album               0\n",
              "artist              0\n",
              "release_date        0\n",
              "length              0\n",
              "popularity          0\n",
              "acousticness        0\n",
              "danceability        0\n",
              "energy              0\n",
              "instrumentalness    0\n",
              "liveness            0\n",
              "loudness            0\n",
              "speechiness         0\n",
              "tempo               0\n",
              "valence             0\n",
              "time_signature      0\n",
              "key                 0\n",
              "mode                0\n",
              "uri                 0\n",
              "release_year        0\n",
              "top_year            0\n",
              "user                0\n",
              "dtype: int64"
            ]
          },
          "execution_count": 162,
          "metadata": {},
          "output_type": "execute_result"
        }
      ],
      "source": [
        "# checking for missing values in data\n",
        "df.isna().sum()"
      ]
    },
    {
      "cell_type": "markdown",
      "metadata": {
        "id": "qZMl2VjDc_xF"
      },
      "source": [
        "## 4.3- Handling Outliers"
      ]
    },
    {
      "cell_type": "code",
      "execution_count": 163,
      "metadata": {
        "colab": {
          "base_uri": "https://localhost:8080/"
        },
        "id": "-ljSEkN1dBfi",
        "outputId": "dac3121a-5e4a-4518-9403-50000139a541"
      },
      "outputs": [
        {
          "name": "stdout",
          "output_type": "stream",
          "text": [
            "Number of outliers: 481\n"
          ]
        }
      ],
      "source": [
        "numerical_features = df.select_dtypes(include=['number']).columns.tolist()\n",
        "\n",
        "# Detect outliers in numerical features\n",
        "outliers_indices = detect_outliers(df, features=numerical_features, n=1.5)\n",
        "number_of_outliers = len(outliers_indices)\n",
        "\n",
        "# Print the number of outliers\n",
        "print(f'Number of outliers: {number_of_outliers}')"
      ]
    },
    {
      "cell_type": "code",
      "execution_count": 164,
      "metadata": {
        "id": "iwHrvUI7gTrr"
      },
      "outputs": [],
      "source": [
        " #Removing all Outliers\n",
        "df = df.drop(outliers_indices)"
      ]
    },
    {
      "cell_type": "code",
      "execution_count": 165,
      "metadata": {
        "colab": {
          "base_uri": "https://localhost:8080/"
        },
        "id": "B3_dMZj9gWf9",
        "outputId": "77936302-fd8c-4fff-a8a5-7e5f3dac74e6"
      },
      "outputs": [
        {
          "name": "stdout",
          "output_type": "stream",
          "text": [
            "Dataset Shape After Removing Outliers (3309, 22)\n"
          ]
        }
      ],
      "source": [
        "print(f\"Dataset Shape After Removing Outliers {df.shape}\")"
      ]
    },
    {
      "cell_type": "markdown",
      "metadata": {
        "id": "HH5ndGCghnMZ"
      },
      "source": [
        "## 4.5- Data Split to Train and Test Sets"
      ]
    },
    {
      "cell_type": "code",
      "execution_count": 166,
      "metadata": {},
      "outputs": [
        {
          "name": "stdout",
          "output_type": "stream",
          "text": [
            "    user top_year   user_year\n",
            "1  delta     2022  delta_2022\n",
            "2  gamma     2020  gamma_2020\n",
            "3  gamma     2018  gamma_2018\n",
            "4  alpha     2020  alpha_2020\n",
            "5  delta     2018  delta_2018\n"
          ]
        }
      ],
      "source": [
        "# Créer la colonne user_year en concaténant user et release_year\n",
        "df['user_year'] = df['user'] + '_' + df['top_year'].astype(str)\n",
        "\n",
        "# Afficher les premières lignes du DataFrame avec la nouvelle colonne\n",
        "print(df[['user', 'top_year', 'user_year']].head())"
      ]
    },
    {
      "cell_type": "code",
      "execution_count": 167,
      "metadata": {},
      "outputs": [],
      "source": [
        "# Extraction des colonnes catégoriques\n",
        "categorical_columns = ['name', 'album', 'artist', 'uri','top_year','user_year']\n",
        "\n",
        "label_encoder = LabelEncoder()\n",
        "\n",
        "for column in categorical_columns:\n",
        "    df[column] = label_encoder.fit_transform(df[column])"
      ]
    },
    {
      "cell_type": "code",
      "execution_count": 168,
      "metadata": {},
      "outputs": [
        {
          "name": "stdout",
          "output_type": "stream",
          "text": [
            "<class 'pandas.core.frame.DataFrame'>\n",
            "Index: 3309 entries, 1 to 3897\n",
            "Data columns (total 23 columns):\n",
            " #   Column            Non-Null Count  Dtype  \n",
            "---  ------            --------------  -----  \n",
            " 0   name              3309 non-null   int32  \n",
            " 1   album             3309 non-null   int32  \n",
            " 2   artist            3309 non-null   int32  \n",
            " 3   release_date      3309 non-null   object \n",
            " 4   length            3309 non-null   int64  \n",
            " 5   popularity        3309 non-null   int64  \n",
            " 6   acousticness      3309 non-null   float64\n",
            " 7   danceability      3309 non-null   float64\n",
            " 8   energy            3309 non-null   float64\n",
            " 9   instrumentalness  3309 non-null   float64\n",
            " 10  liveness          3309 non-null   float64\n",
            " 11  loudness          3309 non-null   float64\n",
            " 12  speechiness       3309 non-null   float64\n",
            " 13  tempo             3309 non-null   float64\n",
            " 14  valence           3309 non-null   float64\n",
            " 15  time_signature    3309 non-null   int64  \n",
            " 16  key               3309 non-null   int64  \n",
            " 17  mode              3309 non-null   int64  \n",
            " 18  uri               3309 non-null   int32  \n",
            " 19  release_year      3309 non-null   int64  \n",
            " 20  top_year          3309 non-null   int32  \n",
            " 21  user              3309 non-null   object \n",
            " 22  user_year         3309 non-null   int32  \n",
            "dtypes: float64(9), int32(6), int64(6), object(2)\n",
            "memory usage: 542.9+ KB\n"
          ]
        }
      ],
      "source": [
        "df.info()"
      ]
    },
    {
      "cell_type": "code",
      "execution_count": 169,
      "metadata": {
        "id": "-l5wpBQ_jBpn"
      },
      "outputs": [],
      "source": [
        "# First we extract the x Featues and y Label\n",
        "x= df.drop(['user','release_date'], axis=1)\n",
        "\n",
        "\n",
        "y = df['user_year']"
      ]
    },
    {
      "cell_type": "code",
      "execution_count": 170,
      "metadata": {
        "colab": {
          "base_uri": "https://localhost:8080/"
        },
        "id": "xaIu5EWQjICR",
        "outputId": "cc31f00b-13ef-4da7-cc1a-71b73c10ca9c"
      },
      "outputs": [
        {
          "data": {
            "text/plain": [
              "((3309, 21), (3309,))"
            ]
          },
          "execution_count": 170,
          "metadata": {},
          "output_type": "execute_result"
        }
      ],
      "source": [
        "x.shape, y.shape"
      ]
    },
    {
      "cell_type": "code",
      "execution_count": 171,
      "metadata": {
        "colab": {
          "base_uri": "https://localhost:8080/"
        },
        "id": "54S7GhUpjLfL",
        "outputId": "f36a4d72-69ff-488d-f776-d5aaebca72f4"
      },
      "outputs": [
        {
          "name": "stdout",
          "output_type": "stream",
          "text": [
            "Training set has 2647 samples.\n",
            "Testing set has 662 samples.\n"
          ]
        }
      ],
      "source": [
        "# Then we Split the data into training and testing sets (80% training, 20% testing)\n",
        "X_train, X_test, y_train, y_test = train_test_split(x,\n",
        "                                                    y,\n",
        "                                                    test_size = 0.2,\n",
        "                                                    random_state = 42,\n",
        "                                                    shuffle = True,\n",
        "                                                    )\n",
        "\n",
        "\n",
        "print(\"Training set has {} samples.\".format(X_train.shape[0]))\n",
        "print(\"Testing set has {} samples.\".format(X_test.shape[0]))"
      ]
    },
    {
      "cell_type": "markdown",
      "metadata": {
        "id": "2GAdivo5ja2Q"
      },
      "source": [
        "## 4.6- Handling Imbalanced Data"
      ]
    },
    {
      "cell_type": "code",
      "execution_count": 172,
      "metadata": {
        "colab": {
          "base_uri": "https://localhost:8080/"
        },
        "id": "_gsIB2PMjjWJ",
        "outputId": "ed388928-2cc9-437d-a575-629646930af2"
      },
      "outputs": [
        {
          "data": {
            "text/plain": [
              "user_year\n",
              "22    80\n",
              "6     79\n",
              "13    79\n",
              "34    78\n",
              "0     77\n",
              "3     76\n",
              "29    76\n",
              "2     76\n",
              "8     75\n",
              "30    75\n",
              "10    75\n",
              "26    74\n",
              "5     73\n",
              "1     73\n",
              "21    72\n",
              "14    72\n",
              "36    72\n",
              "9     72\n",
              "37    71\n",
              "20    71\n",
              "32    70\n",
              "12    70\n",
              "28    70\n",
              "7     69\n",
              "23    69\n",
              "31    68\n",
              "25    67\n",
              "15    67\n",
              "24    67\n",
              "35    66\n",
              "19    64\n",
              "27    63\n",
              "33    61\n",
              "16    60\n",
              "18    58\n",
              "4     58\n",
              "17    57\n",
              "11    47\n",
              "Name: count, dtype: int64"
            ]
          },
          "execution_count": 172,
          "metadata": {},
          "output_type": "execute_result"
        }
      ],
      "source": [
        "y_train.value_counts()"
      ]
    },
    {
      "cell_type": "code",
      "execution_count": 173,
      "metadata": {},
      "outputs": [],
      "source": [
        "sm = SMOTE(random_state=42)\n",
        "X_train, y_train = sm.fit_resample(X_train, y_train)"
      ]
    },
    {
      "cell_type": "code",
      "execution_count": 174,
      "metadata": {},
      "outputs": [
        {
          "data": {
            "text/plain": [
              "user_year\n",
              "23    80\n",
              "3     80\n",
              "0     80\n",
              "2     80\n",
              "25    80\n",
              "12    80\n",
              "29    80\n",
              "26    80\n",
              "15    80\n",
              "21    80\n",
              "9     80\n",
              "8     80\n",
              "32    80\n",
              "19    80\n",
              "16    80\n",
              "11    80\n",
              "24    80\n",
              "37    80\n",
              "17    80\n",
              "22    80\n",
              "28    80\n",
              "36    80\n",
              "35    80\n",
              "27    80\n",
              "20    80\n",
              "10    80\n",
              "31    80\n",
              "18    80\n",
              "1     80\n",
              "5     80\n",
              "34    80\n",
              "33    80\n",
              "13    80\n",
              "4     80\n",
              "6     80\n",
              "7     80\n",
              "14    80\n",
              "30    80\n",
              "Name: count, dtype: int64"
            ]
          },
          "execution_count": 174,
          "metadata": {},
          "output_type": "execute_result"
        }
      ],
      "source": [
        "y_train.value_counts()"
      ]
    },
    {
      "cell_type": "code",
      "execution_count": 175,
      "metadata": {},
      "outputs": [
        {
          "data": {
            "text/plain": [
              "38"
            ]
          },
          "execution_count": 175,
          "metadata": {},
          "output_type": "execute_result"
        }
      ],
      "source": [
        "len(y_train.unique())"
      ]
    },
    {
      "cell_type": "markdown",
      "metadata": {
        "id": "zqdvAXkTj_SG"
      },
      "source": [
        "## 4.7- Feature Scaling"
      ]
    },
    {
      "cell_type": "code",
      "execution_count": 176,
      "metadata": {
        "colab": {
          "base_uri": "https://localhost:8080/",
          "height": 443
        },
        "id": "365xaWs6kO2f",
        "outputId": "2c958fcf-4af8-4fc6-a7ad-342027f8d243"
      },
      "outputs": [
        {
          "data": {
            "text/html": [
              "<div>\n",
              "<style scoped>\n",
              "    .dataframe tbody tr th:only-of-type {\n",
              "        vertical-align: middle;\n",
              "    }\n",
              "\n",
              "    .dataframe tbody tr th {\n",
              "        vertical-align: top;\n",
              "    }\n",
              "\n",
              "    .dataframe thead th {\n",
              "        text-align: right;\n",
              "    }\n",
              "</style>\n",
              "<table border=\"1\" class=\"dataframe\">\n",
              "  <thead>\n",
              "    <tr style=\"text-align: right;\">\n",
              "      <th></th>\n",
              "      <th>name</th>\n",
              "      <th>album</th>\n",
              "      <th>artist</th>\n",
              "      <th>length</th>\n",
              "      <th>popularity</th>\n",
              "      <th>acousticness</th>\n",
              "      <th>danceability</th>\n",
              "      <th>energy</th>\n",
              "      <th>instrumentalness</th>\n",
              "      <th>liveness</th>\n",
              "      <th>...</th>\n",
              "      <th>speechiness</th>\n",
              "      <th>tempo</th>\n",
              "      <th>valence</th>\n",
              "      <th>time_signature</th>\n",
              "      <th>key</th>\n",
              "      <th>mode</th>\n",
              "      <th>uri</th>\n",
              "      <th>release_year</th>\n",
              "      <th>top_year</th>\n",
              "      <th>user_year</th>\n",
              "    </tr>\n",
              "  </thead>\n",
              "  <tbody>\n",
              "    <tr>\n",
              "      <th>0</th>\n",
              "      <td>2399</td>\n",
              "      <td>378</td>\n",
              "      <td>710</td>\n",
              "      <td>0.739480</td>\n",
              "      <td>-0.403940</td>\n",
              "      <td>-1.144107</td>\n",
              "      <td>-2.173568</td>\n",
              "      <td>1.188590</td>\n",
              "      <td>1.434284</td>\n",
              "      <td>-0.383514</td>\n",
              "      <td>...</td>\n",
              "      <td>-0.076082</td>\n",
              "      <td>0.914903</td>\n",
              "      <td>-1.059760</td>\n",
              "      <td>0.234550</td>\n",
              "      <td>1.654197</td>\n",
              "      <td>1.13617</td>\n",
              "      <td>1416</td>\n",
              "      <td>0.251835</td>\n",
              "      <td>6</td>\n",
              "      <td>23</td>\n",
              "    </tr>\n",
              "    <tr>\n",
              "      <th>1</th>\n",
              "      <td>238</td>\n",
              "      <td>655</td>\n",
              "      <td>437</td>\n",
              "      <td>-0.336294</td>\n",
              "      <td>1.578365</td>\n",
              "      <td>1.122978</td>\n",
              "      <td>-0.498298</td>\n",
              "      <td>-0.682752</td>\n",
              "      <td>-0.743347</td>\n",
              "      <td>-0.356879</td>\n",
              "      <td>...</td>\n",
              "      <td>-0.472872</td>\n",
              "      <td>-1.489289</td>\n",
              "      <td>0.100291</td>\n",
              "      <td>0.234550</td>\n",
              "      <td>-0.374580</td>\n",
              "      <td>-0.88015</td>\n",
              "      <td>1574</td>\n",
              "      <td>0.374938</td>\n",
              "      <td>2</td>\n",
              "      <td>9</td>\n",
              "    </tr>\n",
              "    <tr>\n",
              "      <th>2</th>\n",
              "      <td>640</td>\n",
              "      <td>322</td>\n",
              "      <td>648</td>\n",
              "      <td>-1.054874</td>\n",
              "      <td>0.931082</td>\n",
              "      <td>0.322441</td>\n",
              "      <td>1.268842</td>\n",
              "      <td>0.560759</td>\n",
              "      <td>-0.739700</td>\n",
              "      <td>-0.223705</td>\n",
              "      <td>...</td>\n",
              "      <td>1.339390</td>\n",
              "      <td>-1.274063</td>\n",
              "      <td>0.531282</td>\n",
              "      <td>0.234550</td>\n",
              "      <td>-0.374580</td>\n",
              "      <td>1.13617</td>\n",
              "      <td>905</td>\n",
              "      <td>0.744246</td>\n",
              "      <td>4</td>\n",
              "      <td>35</td>\n",
              "    </tr>\n",
              "    <tr>\n",
              "      <th>3</th>\n",
              "      <td>2549</td>\n",
              "      <td>309</td>\n",
              "      <td>1210</td>\n",
              "      <td>-0.183123</td>\n",
              "      <td>-1.293954</td>\n",
              "      <td>-0.123572</td>\n",
              "      <td>0.215043</td>\n",
              "      <td>0.009888</td>\n",
              "      <td>1.538874</td>\n",
              "      <td>-0.799906</td>\n",
              "      <td>...</td>\n",
              "      <td>-0.338065</td>\n",
              "      <td>-1.384422</td>\n",
              "      <td>0.531282</td>\n",
              "      <td>0.234550</td>\n",
              "      <td>1.074546</td>\n",
              "      <td>-0.88015</td>\n",
              "      <td>144</td>\n",
              "      <td>0.374938</td>\n",
              "      <td>3</td>\n",
              "      <td>27</td>\n",
              "    </tr>\n",
              "    <tr>\n",
              "      <th>4</th>\n",
              "      <td>1645</td>\n",
              "      <td>1559</td>\n",
              "      <td>747</td>\n",
              "      <td>-0.236675</td>\n",
              "      <td>0.121978</td>\n",
              "      <td>1.403165</td>\n",
              "      <td>0.409591</td>\n",
              "      <td>-1.803532</td>\n",
              "      <td>-0.743221</td>\n",
              "      <td>-0.303609</td>\n",
              "      <td>...</td>\n",
              "      <td>-0.413099</td>\n",
              "      <td>0.485897</td>\n",
              "      <td>0.833378</td>\n",
              "      <td>0.234550</td>\n",
              "      <td>0.494896</td>\n",
              "      <td>1.13617</td>\n",
              "      <td>1479</td>\n",
              "      <td>-2.825739</td>\n",
              "      <td>6</td>\n",
              "      <td>20</td>\n",
              "    </tr>\n",
              "    <tr>\n",
              "      <th>...</th>\n",
              "      <td>...</td>\n",
              "      <td>...</td>\n",
              "      <td>...</td>\n",
              "      <td>...</td>\n",
              "      <td>...</td>\n",
              "      <td>...</td>\n",
              "      <td>...</td>\n",
              "      <td>...</td>\n",
              "      <td>...</td>\n",
              "      <td>...</td>\n",
              "      <td>...</td>\n",
              "      <td>...</td>\n",
              "      <td>...</td>\n",
              "      <td>...</td>\n",
              "      <td>...</td>\n",
              "      <td>...</td>\n",
              "      <td>...</td>\n",
              "      <td>...</td>\n",
              "      <td>...</td>\n",
              "      <td>...</td>\n",
              "      <td>...</td>\n",
              "    </tr>\n",
              "    <tr>\n",
              "      <th>3035</th>\n",
              "      <td>1443</td>\n",
              "      <td>738</td>\n",
              "      <td>926</td>\n",
              "      <td>-0.293584</td>\n",
              "      <td>0.121978</td>\n",
              "      <td>0.234840</td>\n",
              "      <td>0.725245</td>\n",
              "      <td>1.073186</td>\n",
              "      <td>-0.743318</td>\n",
              "      <td>-0.296714</td>\n",
              "      <td>...</td>\n",
              "      <td>2.804280</td>\n",
              "      <td>-0.305334</td>\n",
              "      <td>1.606391</td>\n",
              "      <td>0.234550</td>\n",
              "      <td>-0.954231</td>\n",
              "      <td>-0.88015</td>\n",
              "      <td>2169</td>\n",
              "      <td>0.005629</td>\n",
              "      <td>6</td>\n",
              "      <td>37</td>\n",
              "    </tr>\n",
              "    <tr>\n",
              "      <th>3036</th>\n",
              "      <td>2124</td>\n",
              "      <td>28</td>\n",
              "      <td>830</td>\n",
              "      <td>-0.138582</td>\n",
              "      <td>1.133358</td>\n",
              "      <td>-0.325680</td>\n",
              "      <td>1.324846</td>\n",
              "      <td>-0.641004</td>\n",
              "      <td>-0.743347</td>\n",
              "      <td>-0.109716</td>\n",
              "      <td>...</td>\n",
              "      <td>0.827585</td>\n",
              "      <td>0.188489</td>\n",
              "      <td>1.139037</td>\n",
              "      <td>-2.456142</td>\n",
              "      <td>-1.533882</td>\n",
              "      <td>-0.88015</td>\n",
              "      <td>610</td>\n",
              "      <td>0.498041</td>\n",
              "      <td>6</td>\n",
              "      <td>37</td>\n",
              "    </tr>\n",
              "    <tr>\n",
              "      <th>3037</th>\n",
              "      <td>1212</td>\n",
              "      <td>368</td>\n",
              "      <td>844</td>\n",
              "      <td>0.100932</td>\n",
              "      <td>1.376089</td>\n",
              "      <td>-0.068367</td>\n",
              "      <td>1.420959</td>\n",
              "      <td>-0.036606</td>\n",
              "      <td>-0.690329</td>\n",
              "      <td>-0.426570</td>\n",
              "      <td>...</td>\n",
              "      <td>3.947078</td>\n",
              "      <td>0.176751</td>\n",
              "      <td>1.747870</td>\n",
              "      <td>0.234550</td>\n",
              "      <td>0.205070</td>\n",
              "      <td>-0.88015</td>\n",
              "      <td>350</td>\n",
              "      <td>0.744246</td>\n",
              "      <td>6</td>\n",
              "      <td>37</td>\n",
              "    </tr>\n",
              "    <tr>\n",
              "      <th>3038</th>\n",
              "      <td>733</td>\n",
              "      <td>1591</td>\n",
              "      <td>755</td>\n",
              "      <td>1.298249</td>\n",
              "      <td>1.052447</td>\n",
              "      <td>0.930035</td>\n",
              "      <td>0.428520</td>\n",
              "      <td>-0.871510</td>\n",
              "      <td>-0.743334</td>\n",
              "      <td>-0.102448</td>\n",
              "      <td>...</td>\n",
              "      <td>0.249791</td>\n",
              "      <td>-1.040179</td>\n",
              "      <td>-0.476641</td>\n",
              "      <td>0.234550</td>\n",
              "      <td>0.494896</td>\n",
              "      <td>-0.88015</td>\n",
              "      <td>2353</td>\n",
              "      <td>0.498041</td>\n",
              "      <td>6</td>\n",
              "      <td>37</td>\n",
              "    </tr>\n",
              "    <tr>\n",
              "      <th>3039</th>\n",
              "      <td>1568</td>\n",
              "      <td>208</td>\n",
              "      <td>304</td>\n",
              "      <td>0.204161</td>\n",
              "      <td>1.376089</td>\n",
              "      <td>0.080787</td>\n",
              "      <td>0.603960</td>\n",
              "      <td>0.747054</td>\n",
              "      <td>-0.696439</td>\n",
              "      <td>1.105329</td>\n",
              "      <td>...</td>\n",
              "      <td>-0.410160</td>\n",
              "      <td>0.698495</td>\n",
              "      <td>0.055058</td>\n",
              "      <td>0.234550</td>\n",
              "      <td>1.074546</td>\n",
              "      <td>-0.88015</td>\n",
              "      <td>1219</td>\n",
              "      <td>0.374938</td>\n",
              "      <td>6</td>\n",
              "      <td>37</td>\n",
              "    </tr>\n",
              "  </tbody>\n",
              "</table>\n",
              "<p>3040 rows × 21 columns</p>\n",
              "</div>"
            ],
            "text/plain": [
              "      name  album  artist    length  popularity  acousticness  danceability  \\\n",
              "0     2399    378     710  0.739480   -0.403940     -1.144107     -2.173568   \n",
              "1      238    655     437 -0.336294    1.578365      1.122978     -0.498298   \n",
              "2      640    322     648 -1.054874    0.931082      0.322441      1.268842   \n",
              "3     2549    309    1210 -0.183123   -1.293954     -0.123572      0.215043   \n",
              "4     1645   1559     747 -0.236675    0.121978      1.403165      0.409591   \n",
              "...    ...    ...     ...       ...         ...           ...           ...   \n",
              "3035  1443    738     926 -0.293584    0.121978      0.234840      0.725245   \n",
              "3036  2124     28     830 -0.138582    1.133358     -0.325680      1.324846   \n",
              "3037  1212    368     844  0.100932    1.376089     -0.068367      1.420959   \n",
              "3038   733   1591     755  1.298249    1.052447      0.930035      0.428520   \n",
              "3039  1568    208     304  0.204161    1.376089      0.080787      0.603960   \n",
              "\n",
              "        energy  instrumentalness  liveness  ...  speechiness     tempo  \\\n",
              "0     1.188590          1.434284 -0.383514  ...    -0.076082  0.914903   \n",
              "1    -0.682752         -0.743347 -0.356879  ...    -0.472872 -1.489289   \n",
              "2     0.560759         -0.739700 -0.223705  ...     1.339390 -1.274063   \n",
              "3     0.009888          1.538874 -0.799906  ...    -0.338065 -1.384422   \n",
              "4    -1.803532         -0.743221 -0.303609  ...    -0.413099  0.485897   \n",
              "...        ...               ...       ...  ...          ...       ...   \n",
              "3035  1.073186         -0.743318 -0.296714  ...     2.804280 -0.305334   \n",
              "3036 -0.641004         -0.743347 -0.109716  ...     0.827585  0.188489   \n",
              "3037 -0.036606         -0.690329 -0.426570  ...     3.947078  0.176751   \n",
              "3038 -0.871510         -0.743334 -0.102448  ...     0.249791 -1.040179   \n",
              "3039  0.747054         -0.696439  1.105329  ...    -0.410160  0.698495   \n",
              "\n",
              "       valence  time_signature       key     mode   uri  release_year  \\\n",
              "0    -1.059760        0.234550  1.654197  1.13617  1416      0.251835   \n",
              "1     0.100291        0.234550 -0.374580 -0.88015  1574      0.374938   \n",
              "2     0.531282        0.234550 -0.374580  1.13617   905      0.744246   \n",
              "3     0.531282        0.234550  1.074546 -0.88015   144      0.374938   \n",
              "4     0.833378        0.234550  0.494896  1.13617  1479     -2.825739   \n",
              "...        ...             ...       ...      ...   ...           ...   \n",
              "3035  1.606391        0.234550 -0.954231 -0.88015  2169      0.005629   \n",
              "3036  1.139037       -2.456142 -1.533882 -0.88015   610      0.498041   \n",
              "3037  1.747870        0.234550  0.205070 -0.88015   350      0.744246   \n",
              "3038 -0.476641        0.234550  0.494896 -0.88015  2353      0.498041   \n",
              "3039  0.055058        0.234550  1.074546 -0.88015  1219      0.374938   \n",
              "\n",
              "      top_year  user_year  \n",
              "0            6         23  \n",
              "1            2          9  \n",
              "2            4         35  \n",
              "3            3         27  \n",
              "4            6         20  \n",
              "...        ...        ...  \n",
              "3035         6         37  \n",
              "3036         6         37  \n",
              "3037         6         37  \n",
              "3038         6         37  \n",
              "3039         6         37  \n",
              "\n",
              "[3040 rows x 21 columns]"
            ]
          },
          "execution_count": 176,
          "metadata": {},
          "output_type": "execute_result"
        }
      ],
      "source": [
        "# Creating a StandardScaler instance\n",
        "scaler = StandardScaler()\n",
        "\n",
        "# Fitting the StandardScaler on the training data\n",
        "scaler.fit(X_train[numerical_features])\n",
        "\n",
        "# Transforming (standardize) the continuous features in the training and testing data\n",
        "X_train_cont_scaled = scaler.transform(X_train[numerical_features])\n",
        "X_test_cont_scaled = scaler.transform(X_test[numerical_features])\n",
        "\n",
        "# Replacing the scaled continuous features in the original data\n",
        "X_train[numerical_features] = X_train_cont_scaled\n",
        "X_test[numerical_features] = X_test_cont_scaled\n",
        "\n",
        "X_train"
      ]
    },
    {
      "cell_type": "markdown",
      "metadata": {
        "id": "A3OJGs2qkeLL"
      },
      "source": [
        "## 5- Models Training and Evaluation ⚙️"
      ]
    },
    {
      "cell_type": "code",
      "execution_count": 177,
      "metadata": {
        "id": "SizoJnvzkqEV"
      },
      "outputs": [],
      "source": [
        "# List of classifiers to evaluate\n",
        "classifiers = [\n",
        "    (\"Logistic Regression\", LogisticRegression(random_state=42, max_iter= 1500,  n_jobs=-1, C=0.1)),\n",
        "    (\"Decision Tree\", DecisionTreeClassifier(random_state=42,max_depth=5, criterion='entropy')),\n",
        "    (\"Random Forest\",RandomForestClassifier(\n",
        "    max_depth=None,min_samples_split=5,n_estimators=389,random_state=42)),\n",
        "    (\"Gradient Boosting\", GradientBoostingClassifier(random_state=42,\n",
        "                                                    n_estimators=100, learning_rate=0.1, max_depth=3)),\n",
        "    (\"LightGBM\", lgb.LGBMClassifier(random_state=42, verbose=-1, learning_rate=0.1, num_leaves=31, max_depth=-1, n_estimators=100)),\n",
        "    ('k-nearest neighbors', KNeighborsClassifier(\n",
        "        n_neighbors=5,\n",
        "        weights='uniform',\n",
        "        metric='minkowski',\n",
        "    ))\n",
        "]"
      ]
    },
    {
      "cell_type": "code",
      "execution_count": 178,
      "metadata": {
        "colab": {
          "base_uri": "https://localhost:8080/",
          "height": 550
        },
        "id": "7U9l9l-WkvUB",
        "outputId": "d68df742-cd7f-46d2-ebb7-b7d8078def47"
      },
      "outputs": [
        {
          "name": "stdout",
          "output_type": "stream",
          "text": [
            "For Logistic Regression:\n"
          ]
        },
        {
          "name": "stdout",
          "output_type": "stream",
          "text": [
            "Cross-validation completed successfully for Logistic Regression\n",
            "**************************************************\n",
            "For Decision Tree:\n",
            "Cross-validation completed successfully for Decision Tree\n",
            "**************************************************\n",
            "For Random Forest:\n",
            "Cross-validation completed successfully for Random Forest\n",
            "**************************************************\n",
            "For Gradient Boosting:\n",
            "Cross-validation completed successfully for Gradient Boosting\n",
            "**************************************************\n",
            "For LightGBM:\n",
            "Cross-validation completed successfully for LightGBM\n",
            "**************************************************\n",
            "For k-nearest neighbors:\n",
            "Cross-validation completed successfully for k-nearest neighbors\n",
            "**************************************************\n"
          ]
        },
        {
          "data": {
            "text/html": [
              "<div>\n",
              "<style scoped>\n",
              "    .dataframe tbody tr th:only-of-type {\n",
              "        vertical-align: middle;\n",
              "    }\n",
              "\n",
              "    .dataframe tbody tr th {\n",
              "        vertical-align: top;\n",
              "    }\n",
              "\n",
              "    .dataframe thead th {\n",
              "        text-align: right;\n",
              "    }\n",
              "</style>\n",
              "<table border=\"1\" class=\"dataframe\">\n",
              "  <thead>\n",
              "    <tr style=\"text-align: right;\">\n",
              "      <th></th>\n",
              "      <th>Model Name</th>\n",
              "      <th>Mean Train Accuracy</th>\n",
              "      <th>Mean Test Accuracy</th>\n",
              "    </tr>\n",
              "  </thead>\n",
              "  <tbody>\n",
              "    <tr>\n",
              "      <th>0</th>\n",
              "      <td>Logistic Regression</td>\n",
              "      <td>0.517928</td>\n",
              "      <td>0.480263</td>\n",
              "    </tr>\n",
              "    <tr>\n",
              "      <th>1</th>\n",
              "      <td>Decision Tree</td>\n",
              "      <td>0.842105</td>\n",
              "      <td>0.842105</td>\n",
              "    </tr>\n",
              "    <tr>\n",
              "      <th>2</th>\n",
              "      <td>Random Forest</td>\n",
              "      <td>1.000000</td>\n",
              "      <td>0.982895</td>\n",
              "    </tr>\n",
              "    <tr>\n",
              "      <th>3</th>\n",
              "      <td>Gradient Boosting</td>\n",
              "      <td>1.000000</td>\n",
              "      <td>1.000000</td>\n",
              "    </tr>\n",
              "    <tr>\n",
              "      <th>4</th>\n",
              "      <td>LightGBM</td>\n",
              "      <td>1.000000</td>\n",
              "      <td>1.000000</td>\n",
              "    </tr>\n",
              "    <tr>\n",
              "      <th>5</th>\n",
              "      <td>k-nearest neighbors</td>\n",
              "      <td>0.471382</td>\n",
              "      <td>0.254605</td>\n",
              "    </tr>\n",
              "  </tbody>\n",
              "</table>\n",
              "</div>"
            ],
            "text/plain": [
              "            Model Name  Mean Train Accuracy  Mean Test Accuracy\n",
              "0  Logistic Regression             0.517928            0.480263\n",
              "1        Decision Tree             0.842105            0.842105\n",
              "2        Random Forest             1.000000            0.982895\n",
              "3    Gradient Boosting             1.000000            1.000000\n",
              "4             LightGBM             1.000000            1.000000\n",
              "5  k-nearest neighbors             0.471382            0.254605"
            ]
          },
          "metadata": {},
          "output_type": "display_data"
        }
      ],
      "source": [
        "# Initialize RFE feature selector\n",
        "RFE_selector = RFE(lgb.LGBMClassifier(random_state=42, verbose=-1), n_features_to_select=8)\n",
        "\n",
        "# Creating lists for classifier names, mean_test_accuracy_scores, and results.\n",
        "results = []\n",
        "mean_test_accuracy_scores = []\n",
        "classifier_names = []\n",
        "\n",
        "for model_name, model in classifiers:\n",
        "    # Print model name\n",
        "    print(f\"For {model_name}:\")\n",
        "\n",
        "    # Steps Creation\n",
        "    steps = list()\n",
        "\n",
        "    steps.append(('feature_selector', RFE_selector))  # RFE feature selection\n",
        "\n",
        "    steps.append((model_name, model))\n",
        "\n",
        "    # Create the pipeline\n",
        "    pipeline = Pipeline(steps=steps)\n",
        "\n",
        "    # 5-fold Stratified Cross-Validation\n",
        "    cv = StratifiedKFold(n_splits=5, shuffle=True, random_state=42)\n",
        "\n",
        "    # Perform cross-validation with train scores\n",
        "    cv_results = cross_validate(pipeline, X_train, y_train, cv=cv, scoring='accuracy',n_jobs=-1, return_train_score=True)\n",
        "\n",
        "    print(f\"Cross-validation completed successfully for {model_name}\")\n",
        "    print('*' * 50)\n",
        "\n",
        "    # Append results to the list\n",
        "    results.append({\n",
        "        \"Model Name\": model_name,\n",
        "        \"Mean Train Accuracy\": np.mean(cv_results['train_score']),\n",
        "        \"Mean Test Accuracy\": np.mean(cv_results['test_score'])\n",
        "    })\n",
        "\n",
        "    mean_test_accuracy_scores.append(np.mean(cv_results['test_score']))\n",
        "    classifier_names.append(model_name)\n",
        "\n",
        "# Create a DataFrame from the results list\n",
        "results_df = pd.DataFrame(results)\n",
        "\n",
        "# Display the DataFrame\n",
        "display(results_df)"
      ]
    },
    {
      "cell_type": "code",
      "execution_count": 179,
      "metadata": {},
      "outputs": [
        {
          "data": {
            "application/vnd.plotly.v1+json": {
              "config": {
                "plotlyServerURL": "https://plot.ly"
              },
              "data": [
                {
                  "alignmentgroup": "True",
                  "hovertemplate": "Test Accuracy=%{marker.color}<br>Classifier=%{y}<extra></extra>",
                  "legendgroup": "",
                  "marker": {
                    "color": [
                      0.48026315789473684,
                      0.8421052631578947,
                      0.9828947368421053,
                      1,
                      1,
                      0.2546052631578947
                    ],
                    "coloraxis": "coloraxis",
                    "pattern": {
                      "shape": ""
                    }
                  },
                  "name": "",
                  "offsetgroup": "",
                  "orientation": "h",
                  "showlegend": false,
                  "text": [
                    0.48026315789473684,
                    0.8421052631578947,
                    0.9828947368421053,
                    1,
                    1,
                    0.2546052631578947
                  ],
                  "textposition": "auto",
                  "type": "bar",
                  "x": [
                    0.48026315789473684,
                    0.8421052631578947,
                    0.9828947368421053,
                    1,
                    1,
                    0.2546052631578947
                  ],
                  "xaxis": "x",
                  "y": [
                    "Logistic Regression",
                    "Decision Tree",
                    "Random Forest",
                    "Gradient Boosting",
                    "LightGBM",
                    "k-nearest neighbors"
                  ],
                  "yaxis": "y"
                }
              ],
              "layout": {
                "barmode": "relative",
                "coloraxis": {
                  "colorbar": {
                    "title": {
                      "text": "Test Accuracy"
                    }
                  },
                  "colorscale": [
                    [
                      0,
                      "#440154"
                    ],
                    [
                      0.1111111111111111,
                      "#482878"
                    ],
                    [
                      0.2222222222222222,
                      "#3e4989"
                    ],
                    [
                      0.3333333333333333,
                      "#31688e"
                    ],
                    [
                      0.4444444444444444,
                      "#26828e"
                    ],
                    [
                      0.5555555555555556,
                      "#1f9e89"
                    ],
                    [
                      0.6666666666666666,
                      "#35b779"
                    ],
                    [
                      0.7777777777777778,
                      "#6ece58"
                    ],
                    [
                      0.8888888888888888,
                      "#b5de2b"
                    ],
                    [
                      1,
                      "#fde725"
                    ]
                  ]
                },
                "height": 500,
                "legend": {
                  "tracegroupgap": 0
                },
                "showlegend": false,
                "template": {
                  "data": {
                    "bar": [
                      {
                        "error_x": {
                          "color": "#2a3f5f"
                        },
                        "error_y": {
                          "color": "#2a3f5f"
                        },
                        "marker": {
                          "line": {
                            "color": "#E5ECF6",
                            "width": 0.5
                          },
                          "pattern": {
                            "fillmode": "overlay",
                            "size": 10,
                            "solidity": 0.2
                          }
                        },
                        "type": "bar"
                      }
                    ],
                    "barpolar": [
                      {
                        "marker": {
                          "line": {
                            "color": "#E5ECF6",
                            "width": 0.5
                          },
                          "pattern": {
                            "fillmode": "overlay",
                            "size": 10,
                            "solidity": 0.2
                          }
                        },
                        "type": "barpolar"
                      }
                    ],
                    "carpet": [
                      {
                        "aaxis": {
                          "endlinecolor": "#2a3f5f",
                          "gridcolor": "white",
                          "linecolor": "white",
                          "minorgridcolor": "white",
                          "startlinecolor": "#2a3f5f"
                        },
                        "baxis": {
                          "endlinecolor": "#2a3f5f",
                          "gridcolor": "white",
                          "linecolor": "white",
                          "minorgridcolor": "white",
                          "startlinecolor": "#2a3f5f"
                        },
                        "type": "carpet"
                      }
                    ],
                    "choropleth": [
                      {
                        "colorbar": {
                          "outlinewidth": 0,
                          "ticks": ""
                        },
                        "type": "choropleth"
                      }
                    ],
                    "contour": [
                      {
                        "colorbar": {
                          "outlinewidth": 0,
                          "ticks": ""
                        },
                        "colorscale": [
                          [
                            0,
                            "#0d0887"
                          ],
                          [
                            0.1111111111111111,
                            "#46039f"
                          ],
                          [
                            0.2222222222222222,
                            "#7201a8"
                          ],
                          [
                            0.3333333333333333,
                            "#9c179e"
                          ],
                          [
                            0.4444444444444444,
                            "#bd3786"
                          ],
                          [
                            0.5555555555555556,
                            "#d8576b"
                          ],
                          [
                            0.6666666666666666,
                            "#ed7953"
                          ],
                          [
                            0.7777777777777778,
                            "#fb9f3a"
                          ],
                          [
                            0.8888888888888888,
                            "#fdca26"
                          ],
                          [
                            1,
                            "#f0f921"
                          ]
                        ],
                        "type": "contour"
                      }
                    ],
                    "contourcarpet": [
                      {
                        "colorbar": {
                          "outlinewidth": 0,
                          "ticks": ""
                        },
                        "type": "contourcarpet"
                      }
                    ],
                    "heatmap": [
                      {
                        "colorbar": {
                          "outlinewidth": 0,
                          "ticks": ""
                        },
                        "colorscale": [
                          [
                            0,
                            "#0d0887"
                          ],
                          [
                            0.1111111111111111,
                            "#46039f"
                          ],
                          [
                            0.2222222222222222,
                            "#7201a8"
                          ],
                          [
                            0.3333333333333333,
                            "#9c179e"
                          ],
                          [
                            0.4444444444444444,
                            "#bd3786"
                          ],
                          [
                            0.5555555555555556,
                            "#d8576b"
                          ],
                          [
                            0.6666666666666666,
                            "#ed7953"
                          ],
                          [
                            0.7777777777777778,
                            "#fb9f3a"
                          ],
                          [
                            0.8888888888888888,
                            "#fdca26"
                          ],
                          [
                            1,
                            "#f0f921"
                          ]
                        ],
                        "type": "heatmap"
                      }
                    ],
                    "heatmapgl": [
                      {
                        "colorbar": {
                          "outlinewidth": 0,
                          "ticks": ""
                        },
                        "colorscale": [
                          [
                            0,
                            "#0d0887"
                          ],
                          [
                            0.1111111111111111,
                            "#46039f"
                          ],
                          [
                            0.2222222222222222,
                            "#7201a8"
                          ],
                          [
                            0.3333333333333333,
                            "#9c179e"
                          ],
                          [
                            0.4444444444444444,
                            "#bd3786"
                          ],
                          [
                            0.5555555555555556,
                            "#d8576b"
                          ],
                          [
                            0.6666666666666666,
                            "#ed7953"
                          ],
                          [
                            0.7777777777777778,
                            "#fb9f3a"
                          ],
                          [
                            0.8888888888888888,
                            "#fdca26"
                          ],
                          [
                            1,
                            "#f0f921"
                          ]
                        ],
                        "type": "heatmapgl"
                      }
                    ],
                    "histogram": [
                      {
                        "marker": {
                          "pattern": {
                            "fillmode": "overlay",
                            "size": 10,
                            "solidity": 0.2
                          }
                        },
                        "type": "histogram"
                      }
                    ],
                    "histogram2d": [
                      {
                        "colorbar": {
                          "outlinewidth": 0,
                          "ticks": ""
                        },
                        "colorscale": [
                          [
                            0,
                            "#0d0887"
                          ],
                          [
                            0.1111111111111111,
                            "#46039f"
                          ],
                          [
                            0.2222222222222222,
                            "#7201a8"
                          ],
                          [
                            0.3333333333333333,
                            "#9c179e"
                          ],
                          [
                            0.4444444444444444,
                            "#bd3786"
                          ],
                          [
                            0.5555555555555556,
                            "#d8576b"
                          ],
                          [
                            0.6666666666666666,
                            "#ed7953"
                          ],
                          [
                            0.7777777777777778,
                            "#fb9f3a"
                          ],
                          [
                            0.8888888888888888,
                            "#fdca26"
                          ],
                          [
                            1,
                            "#f0f921"
                          ]
                        ],
                        "type": "histogram2d"
                      }
                    ],
                    "histogram2dcontour": [
                      {
                        "colorbar": {
                          "outlinewidth": 0,
                          "ticks": ""
                        },
                        "colorscale": [
                          [
                            0,
                            "#0d0887"
                          ],
                          [
                            0.1111111111111111,
                            "#46039f"
                          ],
                          [
                            0.2222222222222222,
                            "#7201a8"
                          ],
                          [
                            0.3333333333333333,
                            "#9c179e"
                          ],
                          [
                            0.4444444444444444,
                            "#bd3786"
                          ],
                          [
                            0.5555555555555556,
                            "#d8576b"
                          ],
                          [
                            0.6666666666666666,
                            "#ed7953"
                          ],
                          [
                            0.7777777777777778,
                            "#fb9f3a"
                          ],
                          [
                            0.8888888888888888,
                            "#fdca26"
                          ],
                          [
                            1,
                            "#f0f921"
                          ]
                        ],
                        "type": "histogram2dcontour"
                      }
                    ],
                    "mesh3d": [
                      {
                        "colorbar": {
                          "outlinewidth": 0,
                          "ticks": ""
                        },
                        "type": "mesh3d"
                      }
                    ],
                    "parcoords": [
                      {
                        "line": {
                          "colorbar": {
                            "outlinewidth": 0,
                            "ticks": ""
                          }
                        },
                        "type": "parcoords"
                      }
                    ],
                    "pie": [
                      {
                        "automargin": true,
                        "type": "pie"
                      }
                    ],
                    "scatter": [
                      {
                        "marker": {
                          "colorbar": {
                            "outlinewidth": 0,
                            "ticks": ""
                          }
                        },
                        "type": "scatter"
                      }
                    ],
                    "scatter3d": [
                      {
                        "line": {
                          "colorbar": {
                            "outlinewidth": 0,
                            "ticks": ""
                          }
                        },
                        "marker": {
                          "colorbar": {
                            "outlinewidth": 0,
                            "ticks": ""
                          }
                        },
                        "type": "scatter3d"
                      }
                    ],
                    "scattercarpet": [
                      {
                        "marker": {
                          "colorbar": {
                            "outlinewidth": 0,
                            "ticks": ""
                          }
                        },
                        "type": "scattercarpet"
                      }
                    ],
                    "scattergeo": [
                      {
                        "marker": {
                          "colorbar": {
                            "outlinewidth": 0,
                            "ticks": ""
                          }
                        },
                        "type": "scattergeo"
                      }
                    ],
                    "scattergl": [
                      {
                        "marker": {
                          "colorbar": {
                            "outlinewidth": 0,
                            "ticks": ""
                          }
                        },
                        "type": "scattergl"
                      }
                    ],
                    "scattermapbox": [
                      {
                        "marker": {
                          "colorbar": {
                            "outlinewidth": 0,
                            "ticks": ""
                          }
                        },
                        "type": "scattermapbox"
                      }
                    ],
                    "scatterpolar": [
                      {
                        "marker": {
                          "colorbar": {
                            "outlinewidth": 0,
                            "ticks": ""
                          }
                        },
                        "type": "scatterpolar"
                      }
                    ],
                    "scatterpolargl": [
                      {
                        "marker": {
                          "colorbar": {
                            "outlinewidth": 0,
                            "ticks": ""
                          }
                        },
                        "type": "scatterpolargl"
                      }
                    ],
                    "scatterternary": [
                      {
                        "marker": {
                          "colorbar": {
                            "outlinewidth": 0,
                            "ticks": ""
                          }
                        },
                        "type": "scatterternary"
                      }
                    ],
                    "surface": [
                      {
                        "colorbar": {
                          "outlinewidth": 0,
                          "ticks": ""
                        },
                        "colorscale": [
                          [
                            0,
                            "#0d0887"
                          ],
                          [
                            0.1111111111111111,
                            "#46039f"
                          ],
                          [
                            0.2222222222222222,
                            "#7201a8"
                          ],
                          [
                            0.3333333333333333,
                            "#9c179e"
                          ],
                          [
                            0.4444444444444444,
                            "#bd3786"
                          ],
                          [
                            0.5555555555555556,
                            "#d8576b"
                          ],
                          [
                            0.6666666666666666,
                            "#ed7953"
                          ],
                          [
                            0.7777777777777778,
                            "#fb9f3a"
                          ],
                          [
                            0.8888888888888888,
                            "#fdca26"
                          ],
                          [
                            1,
                            "#f0f921"
                          ]
                        ],
                        "type": "surface"
                      }
                    ],
                    "table": [
                      {
                        "cells": {
                          "fill": {
                            "color": "#EBF0F8"
                          },
                          "line": {
                            "color": "white"
                          }
                        },
                        "header": {
                          "fill": {
                            "color": "#C8D4E3"
                          },
                          "line": {
                            "color": "white"
                          }
                        },
                        "type": "table"
                      }
                    ]
                  },
                  "layout": {
                    "annotationdefaults": {
                      "arrowcolor": "#2a3f5f",
                      "arrowhead": 0,
                      "arrowwidth": 1
                    },
                    "autotypenumbers": "strict",
                    "coloraxis": {
                      "colorbar": {
                        "outlinewidth": 0,
                        "ticks": ""
                      }
                    },
                    "colorscale": {
                      "diverging": [
                        [
                          0,
                          "#8e0152"
                        ],
                        [
                          0.1,
                          "#c51b7d"
                        ],
                        [
                          0.2,
                          "#de77ae"
                        ],
                        [
                          0.3,
                          "#f1b6da"
                        ],
                        [
                          0.4,
                          "#fde0ef"
                        ],
                        [
                          0.5,
                          "#f7f7f7"
                        ],
                        [
                          0.6,
                          "#e6f5d0"
                        ],
                        [
                          0.7,
                          "#b8e186"
                        ],
                        [
                          0.8,
                          "#7fbc41"
                        ],
                        [
                          0.9,
                          "#4d9221"
                        ],
                        [
                          1,
                          "#276419"
                        ]
                      ],
                      "sequential": [
                        [
                          0,
                          "#0d0887"
                        ],
                        [
                          0.1111111111111111,
                          "#46039f"
                        ],
                        [
                          0.2222222222222222,
                          "#7201a8"
                        ],
                        [
                          0.3333333333333333,
                          "#9c179e"
                        ],
                        [
                          0.4444444444444444,
                          "#bd3786"
                        ],
                        [
                          0.5555555555555556,
                          "#d8576b"
                        ],
                        [
                          0.6666666666666666,
                          "#ed7953"
                        ],
                        [
                          0.7777777777777778,
                          "#fb9f3a"
                        ],
                        [
                          0.8888888888888888,
                          "#fdca26"
                        ],
                        [
                          1,
                          "#f0f921"
                        ]
                      ],
                      "sequentialminus": [
                        [
                          0,
                          "#0d0887"
                        ],
                        [
                          0.1111111111111111,
                          "#46039f"
                        ],
                        [
                          0.2222222222222222,
                          "#7201a8"
                        ],
                        [
                          0.3333333333333333,
                          "#9c179e"
                        ],
                        [
                          0.4444444444444444,
                          "#bd3786"
                        ],
                        [
                          0.5555555555555556,
                          "#d8576b"
                        ],
                        [
                          0.6666666666666666,
                          "#ed7953"
                        ],
                        [
                          0.7777777777777778,
                          "#fb9f3a"
                        ],
                        [
                          0.8888888888888888,
                          "#fdca26"
                        ],
                        [
                          1,
                          "#f0f921"
                        ]
                      ]
                    },
                    "colorway": [
                      "#636efa",
                      "#EF553B",
                      "#00cc96",
                      "#ab63fa",
                      "#FFA15A",
                      "#19d3f3",
                      "#FF6692",
                      "#B6E880",
                      "#FF97FF",
                      "#FECB52"
                    ],
                    "font": {
                      "color": "#2a3f5f"
                    },
                    "geo": {
                      "bgcolor": "white",
                      "lakecolor": "white",
                      "landcolor": "#E5ECF6",
                      "showlakes": true,
                      "showland": true,
                      "subunitcolor": "white"
                    },
                    "hoverlabel": {
                      "align": "left"
                    },
                    "hovermode": "closest",
                    "mapbox": {
                      "style": "light"
                    },
                    "paper_bgcolor": "white",
                    "plot_bgcolor": "#E5ECF6",
                    "polar": {
                      "angularaxis": {
                        "gridcolor": "white",
                        "linecolor": "white",
                        "ticks": ""
                      },
                      "bgcolor": "#E5ECF6",
                      "radialaxis": {
                        "gridcolor": "white",
                        "linecolor": "white",
                        "ticks": ""
                      }
                    },
                    "scene": {
                      "xaxis": {
                        "backgroundcolor": "#E5ECF6",
                        "gridcolor": "white",
                        "gridwidth": 2,
                        "linecolor": "white",
                        "showbackground": true,
                        "ticks": "",
                        "zerolinecolor": "white"
                      },
                      "yaxis": {
                        "backgroundcolor": "#E5ECF6",
                        "gridcolor": "white",
                        "gridwidth": 2,
                        "linecolor": "white",
                        "showbackground": true,
                        "ticks": "",
                        "zerolinecolor": "white"
                      },
                      "zaxis": {
                        "backgroundcolor": "#E5ECF6",
                        "gridcolor": "white",
                        "gridwidth": 2,
                        "linecolor": "white",
                        "showbackground": true,
                        "ticks": "",
                        "zerolinecolor": "white"
                      }
                    },
                    "shapedefaults": {
                      "line": {
                        "color": "#2a3f5f"
                      }
                    },
                    "ternary": {
                      "aaxis": {
                        "gridcolor": "white",
                        "linecolor": "white",
                        "ticks": ""
                      },
                      "baxis": {
                        "gridcolor": "white",
                        "linecolor": "white",
                        "ticks": ""
                      },
                      "bgcolor": "#E5ECF6",
                      "caxis": {
                        "gridcolor": "white",
                        "linecolor": "white",
                        "ticks": ""
                      }
                    },
                    "title": {
                      "x": 0.05
                    },
                    "xaxis": {
                      "automargin": true,
                      "gridcolor": "white",
                      "linecolor": "white",
                      "ticks": "",
                      "title": {
                        "standoff": 15
                      },
                      "zerolinecolor": "white",
                      "zerolinewidth": 2
                    },
                    "yaxis": {
                      "automargin": true,
                      "gridcolor": "white",
                      "linecolor": "white",
                      "ticks": "",
                      "title": {
                        "standoff": 15
                      },
                      "zerolinecolor": "white",
                      "zerolinewidth": 2
                    }
                  }
                },
                "title": {
                  "text": "Mean Test Accuracy Scores by Classifiers"
                },
                "width": 900,
                "xaxis": {
                  "anchor": "y",
                  "domain": [
                    0,
                    1
                  ],
                  "range": [
                    0,
                    1
                  ],
                  "title": {
                    "text": "Test Accuracy"
                  }
                },
                "yaxis": {
                  "anchor": "x",
                  "categoryorder": "total ascending",
                  "domain": [
                    0,
                    1
                  ],
                  "title": {
                    "text": "Classifier"
                  }
                }
              }
            }
          },
          "metadata": {},
          "output_type": "display_data"
        }
      ],
      "source": [
        "# Creating a DataFrame from the data\n",
        "data = pd.DataFrame({'Classifier': classifier_names, 'Test Accuracy': mean_test_accuracy_scores})\n",
        "\n",
        "# Creating Plotly bar chart\n",
        "fig = px.bar(data, x='Test Accuracy', y='Classifier', orientation='h', color='Test Accuracy',\n",
        "             title='Mean Test Accuracy Scores by Classifiers', text='Test Accuracy', color_continuous_scale='viridis')\n",
        "\n",
        "# Customizing the layout\n",
        "fig.update_layout(\n",
        "    xaxis_title='Test Accuracy',\n",
        "    yaxis_title='Classifier',\n",
        "    xaxis=dict(range=[0, 1]),\n",
        "    yaxis=dict(categoryorder='total ascending'),\n",
        "    showlegend=False,\n",
        "    height=500,\n",
        "    width=900\n",
        ")\n",
        "\n",
        "fig.show()"
      ]
    },
    {
      "cell_type": "markdown",
      "metadata": {},
      "source": [
        "## Selected features"
      ]
    },
    {
      "cell_type": "code",
      "execution_count": 180,
      "metadata": {
        "colab": {
          "base_uri": "https://localhost:8080/"
        },
        "id": "DYHLsJ8dvQ26",
        "outputId": "b79e00d7-14f2-43e0-f076-4f3c7577177b"
      },
      "outputs": [
        {
          "name": "stdout",
          "output_type": "stream",
          "text": [
            "Selected Features:\n",
            "Index(['name', 'album', 'artist', 'length', 'popularity', 'acousticness',\n",
            "       'danceability', 'energy', 'instrumentalness', 'liveness', 'loudness',\n",
            "       'speechiness', 'tempo', 'valence', 'time_signature', 'key', 'mode',\n",
            "       'uri', 'release_year', 'top_year', 'user_year'],\n",
            "      dtype='object')\n"
          ]
        }
      ],
      "source": [
        "RFE_selector = RFE(lgb.LGBMClassifier(random_state=42, verbose=-1), n_features_to_select=21)\n",
        "\n",
        "RFE_selector.fit(X_train, y_train)\n",
        "\n",
        "selected_feature_indices = np.where(RFE_selector.support_)[0]\n",
        "\n",
        "selected_feature_names = X_train.columns[selected_feature_indices]\n",
        "\n",
        "print(\"Selected Features:\")\n",
        "print(selected_feature_names)"
      ]
    },
    {
      "cell_type": "markdown",
      "metadata": {},
      "source": [
        "## Random Forest"
      ]
    },
    {
      "cell_type": "code",
      "execution_count": 181,
      "metadata": {},
      "outputs": [],
      "source": [
        "rf = RandomForestClassifier(\n",
        "    max_depth=None,\n",
        "    min_samples_split=5,\n",
        "    n_estimators=389,\n",
        "    random_state=42\n",
        ")\n",
        "\n",
        "pipeline = Pipeline([\n",
        "    ('feature_selector', RFE_selector),\n",
        "    ('classifier', rf)\n",
        "])\n",
        "\n",
        "\n",
        "\n",
        "pipeline.fit(X_train, y_train)\n",
        "\n",
        "\n",
        "y_pred = pipeline.predict(X_test)\n"
      ]
    },
    {
      "cell_type": "code",
      "execution_count": 182,
      "metadata": {},
      "outputs": [
        {
          "data": {
            "image/png": "[encoded data removed]",
            "text/plain": [
              "<Figure size 1200x1000 with 2 Axes>"
            ]
          },
          "metadata": {},
          "output_type": "display_data"
        }
      ],
      "source": [
        "\n",
        "cm = confusion_matrix(y_test, y_pred)\n",
        "\n",
        "\n",
        "unique_labels = y_train.unique()\n",
        "\n",
        "\n",
        "cm_df = pd.DataFrame(cm, index=unique_labels, columns=unique_labels)\n",
        "\n",
        "plt.figure(figsize=(12, 10))\n",
        "sns.heatmap(cm_df, annot=True, cmap='Blues', fmt='g')\n",
        "plt.title('Matrice de Confusion')\n",
        "plt.xlabel('Prédictions')\n",
        "plt.ylabel('Vraies valeurs')\n",
        "plt.show()"
      ]
    },
    {
      "cell_type": "code",
      "execution_count": 183,
      "metadata": {},
      "outputs": [
        {
          "name": "stdout",
          "output_type": "stream",
          "text": [
            "              precision    recall  f1-score   support\n",
            "\n",
            "           0       1.00      1.00      1.00        15\n",
            "           1       1.00      1.00      1.00        18\n",
            "           2       0.94      1.00      0.97        15\n",
            "           3       1.00      1.00      1.00        20\n",
            "           4       1.00      1.00      1.00        22\n",
            "           5       1.00      1.00      1.00        16\n",
            "           6       1.00      1.00      1.00        17\n",
            "           7       1.00      1.00      1.00        14\n",
            "           8       1.00      1.00      1.00        19\n",
            "           9       0.92      0.92      0.92        13\n",
            "          10       1.00      1.00      1.00        15\n",
            "          11       1.00      1.00      1.00         8\n",
            "          12       0.94      1.00      0.97        17\n",
            "          13       0.92      0.92      0.92        12\n",
            "          14       0.86      1.00      0.92         6\n",
            "          15       1.00      1.00      1.00        15\n",
            "          16       0.95      0.91      0.93        23\n",
            "          17       1.00      1.00      1.00        22\n",
            "          18       1.00      0.94      0.97        16\n",
            "          19       0.87      0.93      0.90        14\n",
            "          20       0.93      0.82      0.87        17\n",
            "          21       1.00      0.89      0.94        19\n",
            "          22       0.94      1.00      0.97        15\n",
            "          23       1.00      0.94      0.97        18\n",
            "          24       1.00      1.00      1.00        23\n",
            "          25       1.00      0.95      0.97        19\n",
            "          26       0.84      1.00      0.91        16\n",
            "          27       1.00      0.93      0.96        29\n",
            "          28       0.92      0.92      0.92        25\n",
            "          29       0.95      1.00      0.97        19\n",
            "          30       0.94      1.00      0.97        17\n",
            "          31       1.00      0.94      0.97        18\n",
            "          32       1.00      1.00      1.00        22\n",
            "          33       1.00      1.00      1.00        20\n",
            "          34       1.00      1.00      1.00        14\n",
            "          35       0.96      1.00      0.98        22\n",
            "          36       1.00      1.00      1.00        20\n",
            "          37       1.00      1.00      1.00        12\n",
            "\n",
            "    accuracy                           0.97       662\n",
            "   macro avg       0.97      0.97      0.97       662\n",
            "weighted avg       0.97      0.97      0.97       662\n",
            "\n"
          ]
        }
      ],
      "source": [
        "# get all metrics using `classification_report`\n",
        "print(classification_report(y_test, y_pred))\n"
      ]
    },
    {
      "cell_type": "markdown",
      "metadata": {},
      "source": [
        "## LightGBM"
      ]
    },
    {
      "cell_type": "code",
      "execution_count": 184,
      "metadata": {},
      "outputs": [],
      "source": [
        "params = {'random_state': 42, \n",
        "              'num_leaves': 100, \n",
        "              'n_estimators': 200, \n",
        "              'learning_rate': 0.1, \n",
        "              'feature_fraction': 1.0, \n",
        "              'bagging_freq': 5, \n",
        "              'bagging_fraction': 1.0,\n",
        "              'boosting_type': 'gbdt',\n",
        "              'n_estimators': 389,\n",
        "              'verbose': -1\n",
        "}\n",
        "\n",
        "lgb_model = lgb.LGBMClassifier(**params)\n",
        "\n",
        "\n",
        "lgb_model.fit(X_train, y_train)\n",
        "\n",
        "\n",
        "y_pred = lgb_model.predict(X_test)\n"
      ]
    },
    {
      "cell_type": "code",
      "execution_count": 185,
      "metadata": {},
      "outputs": [
        {
          "data": {
            "image/png": "[encoded data removed]",
            "text/plain": [
              "<Figure size 1200x1000 with 2 Axes>"
            ]
          },
          "metadata": {},
          "output_type": "display_data"
        }
      ],
      "source": [
        "\n",
        "cm = confusion_matrix(y_test, y_pred)\n",
        "\n",
        "\n",
        "unique_labels = y_train.unique()\n",
        "\n",
        "cm_df = pd.DataFrame(cm, index=unique_labels, columns=unique_labels)\n",
        "\n",
        "\n",
        "plt.figure(figsize=(12, 10))\n",
        "sns.heatmap(cm_df, annot=True, cmap='Blues', fmt='g')\n",
        "plt.title('Matrice de Confusion')\n",
        "plt.xlabel('Prédictions')\n",
        "plt.ylabel('Vraies valeurs')\n",
        "plt.show()"
      ]
    },
    {
      "cell_type": "code",
      "execution_count": 186,
      "metadata": {},
      "outputs": [
        {
          "name": "stdout",
          "output_type": "stream",
          "text": [
            "              precision    recall  f1-score   support\n",
            "\n",
            "           0       1.00      1.00      1.00        15\n",
            "           1       1.00      1.00      1.00        18\n",
            "           2       1.00      1.00      1.00        15\n",
            "           3       1.00      1.00      1.00        20\n",
            "           4       1.00      1.00      1.00        22\n",
            "           5       1.00      1.00      1.00        16\n",
            "           6       1.00      1.00      1.00        17\n",
            "           7       1.00      1.00      1.00        14\n",
            "           8       1.00      1.00      1.00        19\n",
            "           9       1.00      1.00      1.00        13\n",
            "          10       1.00      1.00      1.00        15\n",
            "          11       1.00      1.00      1.00         8\n",
            "          12       1.00      1.00      1.00        17\n",
            "          13       1.00      1.00      1.00        12\n",
            "          14       1.00      1.00      1.00         6\n",
            "          15       1.00      1.00      1.00        15\n",
            "          16       1.00      1.00      1.00        23\n",
            "          17       1.00      1.00      1.00        22\n",
            "          18       1.00      1.00      1.00        16\n",
            "          19       1.00      1.00      1.00        14\n",
            "          20       1.00      1.00      1.00        17\n",
            "          21       1.00      1.00      1.00        19\n",
            "          22       1.00      1.00      1.00        15\n",
            "          23       1.00      1.00      1.00        18\n",
            "          24       1.00      1.00      1.00        23\n",
            "          25       1.00      1.00      1.00        19\n",
            "          26       1.00      1.00      1.00        16\n",
            "          27       1.00      1.00      1.00        29\n",
            "          28       1.00      1.00      1.00        25\n",
            "          29       1.00      1.00      1.00        19\n",
            "          30       1.00      1.00      1.00        17\n",
            "          31       1.00      1.00      1.00        18\n",
            "          32       1.00      1.00      1.00        22\n",
            "          33       1.00      1.00      1.00        20\n",
            "          34       1.00      1.00      1.00        14\n",
            "          35       1.00      1.00      1.00        22\n",
            "          36       1.00      1.00      1.00        20\n",
            "          37       1.00      1.00      1.00        12\n",
            "\n",
            "    accuracy                           1.00       662\n",
            "   macro avg       1.00      1.00      1.00       662\n",
            "weighted avg       1.00      1.00      1.00       662\n",
            "\n"
          ]
        }
      ],
      "source": [
        "print(classification_report(y_test, y_pred))"
      ]
    },
    {
      "cell_type": "markdown",
      "metadata": {},
      "source": [
        "## Predict the unknow values from the df_unknown"
      ]
    }
  ],
  "metadata": {
    "colab": {
      "collapsed_sections": [
        "hOREGnAuBFHI",
        "Bx6Uf7K1Cjun",
        "luux1Ly-Gm_O"
      ],
      "provenance": [],
      "toc_visible": true
    },
    "kernelspec": {
      "display_name": "Python 3",
      "name": "python3"
    },
    "language_info": {
      "codemirror_mode": {
        "name": "ipython",
        "version": 3
      },
      "file_extension": ".py",
      "mimetype": "text/x-python",
      "name": "python",
      "nbconvert_exporter": "python",
      "pygments_lexer": "ipython3",
      "version": "3.10.8"
    }
  },
  "nbformat": 4,
  "nbformat_minor": 0
}
